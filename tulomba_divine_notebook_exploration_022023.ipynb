{
 "cells": [
  {
   "cell_type": "code",
   "execution_count": 1,
   "id": "4c633a19",
   "metadata": {},
   "outputs": [],
   "source": [
    "%matplotlib inline\n",
    "import pandas as pd\n",
    "import numpy as np \n",
    "import matplotlib.pyplot as plt\n",
    "import seaborn as sns\n",
    "import math\n",
    "import random\n",
    "import pickle\n",
    "from sklearn.linear_model import LinearRegression \n",
    "from sklearn.neighbors import KNeighborsRegressor\n",
    "from sklearn.decomposition import PCA\n",
    "from sklearn.impute import KNNImputer\n",
    "from sklearn.preprocessing import StandardScaler\n",
    "from sklearn.model_selection import cross_val_score, validation_curve, GridSearchCV\n",
    "from scipy import stats,spatial"
   ]
  },
  {
   "cell_type": "code",
   "execution_count": 2,
   "id": "60deac78",
   "metadata": {},
   "outputs": [],
   "source": [
    "import statsmodels.formula.api as smf\n",
    "import statsmodels.api as sm"
   ]
  },
  {
   "cell_type": "code",
   "execution_count": 3,
   "id": "76a467f3",
   "metadata": {},
   "outputs": [],
   "source": [
    "data = pd.read_csv('C:\\\\Users\\\\dtulomba\\\\Documents\\\\ProjetsCours\\\\Projet2\\\\en.openfoodfacts.org.products_cleaned.csv', sep=',')"
   ]
  },
  {
   "cell_type": "code",
   "execution_count": 4,
   "id": "bc66d354",
   "metadata": {},
   "outputs": [
    {
     "name": "stdout",
     "output_type": "stream",
     "text": [
      "<class 'pandas.core.frame.DataFrame'>\n",
      "RangeIndex: 320772 entries, 0 to 320771\n",
      "Data columns (total 11 columns):\n",
      " #   Column                   Non-Null Count   Dtype  \n",
      "---  ------                   --------------   -----  \n",
      " 0   energy_100g              320772 non-null  float64\n",
      " 1   fat_100g                 320772 non-null  float64\n",
      " 2   saturated-fat_100g       320772 non-null  float64\n",
      " 3   carbohydrates_100g       320772 non-null  float64\n",
      " 4   sugars_100g              320772 non-null  float64\n",
      " 5   fiber_100g               320772 non-null  float64\n",
      " 6   proteins_100g            320772 non-null  float64\n",
      " 7   salt_100g                320772 non-null  float64\n",
      " 8   sodium_100g              320772 non-null  float64\n",
      " 9   nutrition-score-fr_100g  320772 non-null  float64\n",
      " 10  nutrition_grade_fr       320772 non-null  object \n",
      "dtypes: float64(10), object(1)\n",
      "memory usage: 26.9+ MB\n"
     ]
    }
   ],
   "source": [
    "data.info()"
   ]
  },
  {
   "cell_type": "code",
   "execution_count": 5,
   "id": "5950d619",
   "metadata": {},
   "outputs": [
    {
     "data": {
      "text/html": [
       "<div>\n",
       "<style scoped>\n",
       "    .dataframe tbody tr th:only-of-type {\n",
       "        vertical-align: middle;\n",
       "    }\n",
       "\n",
       "    .dataframe tbody tr th {\n",
       "        vertical-align: top;\n",
       "    }\n",
       "\n",
       "    .dataframe thead th {\n",
       "        text-align: right;\n",
       "    }\n",
       "</style>\n",
       "<table border=\"1\" class=\"dataframe\">\n",
       "  <thead>\n",
       "    <tr style=\"text-align: right;\">\n",
       "      <th></th>\n",
       "      <th>energy_100g</th>\n",
       "      <th>fat_100g</th>\n",
       "      <th>saturated-fat_100g</th>\n",
       "      <th>carbohydrates_100g</th>\n",
       "      <th>sugars_100g</th>\n",
       "      <th>fiber_100g</th>\n",
       "      <th>proteins_100g</th>\n",
       "      <th>salt_100g</th>\n",
       "      <th>sodium_100g</th>\n",
       "      <th>nutrition-score-fr_100g</th>\n",
       "      <th>nutrition_grade_fr</th>\n",
       "    </tr>\n",
       "  </thead>\n",
       "  <tbody>\n",
       "    <tr>\n",
       "      <th>0</th>\n",
       "      <td>1142.855327</td>\n",
       "      <td>12.8562</td>\n",
       "      <td>4.817057</td>\n",
       "      <td>32.059983</td>\n",
       "      <td>15.502996</td>\n",
       "      <td>2.245487</td>\n",
       "      <td>7.078369</td>\n",
       "      <td>2.028624</td>\n",
       "      <td>0.798669</td>\n",
       "      <td>13.0</td>\n",
       "      <td>d</td>\n",
       "    </tr>\n",
       "    <tr>\n",
       "      <th>1</th>\n",
       "      <td>2243.000000</td>\n",
       "      <td>28.5700</td>\n",
       "      <td>28.570000</td>\n",
       "      <td>64.290000</td>\n",
       "      <td>14.290000</td>\n",
       "      <td>3.600000</td>\n",
       "      <td>3.570000</td>\n",
       "      <td>0.000000</td>\n",
       "      <td>0.000000</td>\n",
       "      <td>14.0</td>\n",
       "      <td>d</td>\n",
       "    </tr>\n",
       "  </tbody>\n",
       "</table>\n",
       "</div>"
      ],
      "text/plain": [
       "   energy_100g  fat_100g  saturated-fat_100g  carbohydrates_100g  sugars_100g  \\\n",
       "0  1142.855327   12.8562            4.817057           32.059983    15.502996   \n",
       "1  2243.000000   28.5700           28.570000           64.290000    14.290000   \n",
       "\n",
       "   fiber_100g  proteins_100g  salt_100g  sodium_100g  nutrition-score-fr_100g  \\\n",
       "0    2.245487       7.078369   2.028624     0.798669                     13.0   \n",
       "1    3.600000       3.570000   0.000000     0.000000                     14.0   \n",
       "\n",
       "  nutrition_grade_fr  \n",
       "0                  d  \n",
       "1                  d  "
      ]
     },
     "execution_count": 5,
     "metadata": {},
     "output_type": "execute_result"
    }
   ],
   "source": [
    "data.head(2)"
   ]
  },
  {
   "cell_type": "code",
   "execution_count": 6,
   "id": "362b350b",
   "metadata": {},
   "outputs": [
    {
     "data": {
      "text/plain": [
       "(320772, 11)"
      ]
     },
     "execution_count": 6,
     "metadata": {},
     "output_type": "execute_result"
    }
   ],
   "source": [
    "data.shape"
   ]
  },
  {
   "cell_type": "code",
   "execution_count": 7,
   "id": "3cd389b7",
   "metadata": {},
   "outputs": [
    {
     "data": {
      "text/plain": [
       "energy_100g                float64\n",
       "fat_100g                   float64\n",
       "saturated-fat_100g         float64\n",
       "carbohydrates_100g         float64\n",
       "sugars_100g                float64\n",
       "fiber_100g                 float64\n",
       "proteins_100g              float64\n",
       "salt_100g                  float64\n",
       "sodium_100g                float64\n",
       "nutrition-score-fr_100g    float64\n",
       "nutrition_grade_fr          object\n",
       "dtype: object"
      ]
     },
     "execution_count": 7,
     "metadata": {},
     "output_type": "execute_result"
    }
   ],
   "source": [
    "data.dtypes"
   ]
  },
  {
   "cell_type": "code",
   "execution_count": 8,
   "id": "113c132f",
   "metadata": {},
   "outputs": [
    {
     "data": {
      "text/plain": [
       "energy_100g                0\n",
       "fat_100g                   0\n",
       "saturated-fat_100g         0\n",
       "carbohydrates_100g         0\n",
       "sugars_100g                0\n",
       "fiber_100g                 0\n",
       "proteins_100g              0\n",
       "salt_100g                  0\n",
       "sodium_100g                0\n",
       "nutrition-score-fr_100g    0\n",
       "nutrition_grade_fr         0\n",
       "dtype: int64"
      ]
     },
     "execution_count": 8,
     "metadata": {},
     "output_type": "execute_result"
    }
   ],
   "source": [
    "data.isna().sum()"
   ]
  },
  {
   "cell_type": "code",
   "execution_count": 9,
   "id": "c826ca85",
   "metadata": {},
   "outputs": [
    {
     "data": {
      "text/plain": [
       "12.856199602068449"
      ]
     },
     "execution_count": 9,
     "metadata": {},
     "output_type": "execute_result"
    }
   ],
   "source": [
    "data[\"fat_100g\"].mean()"
   ]
  },
  {
   "cell_type": "code",
   "execution_count": 10,
   "id": "ec769960",
   "metadata": {},
   "outputs": [
    {
     "data": {
      "text/plain": [
       "6006.37634532129"
      ]
     },
     "execution_count": 10,
     "metadata": {},
     "output_type": "execute_result"
    }
   ],
   "source": [
    "data[\"fat_100g\"].max()"
   ]
  },
  {
   "cell_type": "code",
   "execution_count": 11,
   "id": "c61d9e85",
   "metadata": {},
   "outputs": [
    {
     "data": {
      "text/plain": [
       "<AxesSubplot:>"
      ]
     },
     "execution_count": 11,
     "metadata": {},
     "output_type": "execute_result"
    },
    {
     "data": {
      "image/png": "[encoded data removed]",
      "text/plain": [
       "<Figure size 432x288 with 1 Axes>"
      ]
     },
     "metadata": {
      "needs_background": "light"
     },
     "output_type": "display_data"
    }
   ],
   "source": [
    "data[\"nutrition_grade_fr\"].value_counts().plot(kind='bar')"
   ]
  },
  {
   "cell_type": "code",
   "execution_count": 12,
   "id": "f87ba4c8",
   "metadata": {},
   "outputs": [],
   "source": [
    "list = ['energy_100g', 'fat_100g', 'saturated-fat_100g',\n",
    "       'carbohydrates_100g', 'sugars_100g', 'fiber_100g', 'proteins_100g',\n",
    "       'salt_100g', 'sodium_100g', 'nutrition-score-fr_100g']"
   ]
  },
  {
   "cell_type": "code",
   "execution_count": 13,
   "id": "06bf1be1",
   "metadata": {},
   "outputs": [
    {
     "data": {
      "text/html": [
       "<div>\n",
       "<style scoped>\n",
       "    .dataframe tbody tr th:only-of-type {\n",
       "        vertical-align: middle;\n",
       "    }\n",
       "\n",
       "    .dataframe tbody tr th {\n",
       "        vertical-align: top;\n",
       "    }\n",
       "\n",
       "    .dataframe thead th {\n",
       "        text-align: right;\n",
       "    }\n",
       "</style>\n",
       "<table border=\"1\" class=\"dataframe\">\n",
       "  <thead>\n",
       "    <tr style=\"text-align: right;\">\n",
       "      <th></th>\n",
       "      <th>energy_100g</th>\n",
       "      <th>fat_100g</th>\n",
       "      <th>saturated-fat_100g</th>\n",
       "      <th>carbohydrates_100g</th>\n",
       "      <th>sugars_100g</th>\n",
       "      <th>fiber_100g</th>\n",
       "      <th>proteins_100g</th>\n",
       "      <th>salt_100g</th>\n",
       "      <th>sodium_100g</th>\n",
       "      <th>nutrition-score-fr_100g</th>\n",
       "    </tr>\n",
       "  </thead>\n",
       "  <tbody>\n",
       "    <tr>\n",
       "      <th>0</th>\n",
       "      <td>1142.855327</td>\n",
       "      <td>12.8562</td>\n",
       "      <td>4.817057</td>\n",
       "      <td>32.059983</td>\n",
       "      <td>15.502996</td>\n",
       "      <td>2.245487</td>\n",
       "      <td>7.078369</td>\n",
       "      <td>2.028624</td>\n",
       "      <td>0.798669</td>\n",
       "      <td>13.0</td>\n",
       "    </tr>\n",
       "    <tr>\n",
       "      <th>1</th>\n",
       "      <td>2243.000000</td>\n",
       "      <td>28.5700</td>\n",
       "      <td>28.570000</td>\n",
       "      <td>64.290000</td>\n",
       "      <td>14.290000</td>\n",
       "      <td>3.600000</td>\n",
       "      <td>3.570000</td>\n",
       "      <td>0.000000</td>\n",
       "      <td>0.000000</td>\n",
       "      <td>14.0</td>\n",
       "    </tr>\n",
       "    <tr>\n",
       "      <th>2</th>\n",
       "      <td>1941.000000</td>\n",
       "      <td>17.8600</td>\n",
       "      <td>0.000000</td>\n",
       "      <td>60.710000</td>\n",
       "      <td>17.860000</td>\n",
       "      <td>7.100000</td>\n",
       "      <td>17.860000</td>\n",
       "      <td>0.635000</td>\n",
       "      <td>0.250000</td>\n",
       "      <td>13.0</td>\n",
       "    </tr>\n",
       "    <tr>\n",
       "      <th>3</th>\n",
       "      <td>2540.000000</td>\n",
       "      <td>57.1400</td>\n",
       "      <td>5.360000</td>\n",
       "      <td>17.860000</td>\n",
       "      <td>3.570000</td>\n",
       "      <td>7.100000</td>\n",
       "      <td>17.860000</td>\n",
       "      <td>1.224280</td>\n",
       "      <td>0.482000</td>\n",
       "      <td>12.0</td>\n",
       "    </tr>\n",
       "    <tr>\n",
       "      <th>4</th>\n",
       "      <td>1552.000000</td>\n",
       "      <td>1.4300</td>\n",
       "      <td>1.148830</td>\n",
       "      <td>77.140000</td>\n",
       "      <td>35.170236</td>\n",
       "      <td>5.700000</td>\n",
       "      <td>8.570000</td>\n",
       "      <td>2.028945</td>\n",
       "      <td>0.798797</td>\n",
       "      <td>16.0</td>\n",
       "    </tr>\n",
       "    <tr>\n",
       "      <th>...</th>\n",
       "      <td>...</td>\n",
       "      <td>...</td>\n",
       "      <td>...</td>\n",
       "      <td>...</td>\n",
       "      <td>...</td>\n",
       "      <td>...</td>\n",
       "      <td>...</td>\n",
       "      <td>...</td>\n",
       "      <td>...</td>\n",
       "      <td>...</td>\n",
       "    </tr>\n",
       "    <tr>\n",
       "      <th>320767</th>\n",
       "      <td>1142.855327</td>\n",
       "      <td>12.8562</td>\n",
       "      <td>4.817057</td>\n",
       "      <td>32.059983</td>\n",
       "      <td>15.502996</td>\n",
       "      <td>2.245487</td>\n",
       "      <td>7.078369</td>\n",
       "      <td>2.028624</td>\n",
       "      <td>0.798669</td>\n",
       "      <td>13.0</td>\n",
       "    </tr>\n",
       "    <tr>\n",
       "      <th>320768</th>\n",
       "      <td>0.000000</td>\n",
       "      <td>0.0000</td>\n",
       "      <td>0.000000</td>\n",
       "      <td>0.000000</td>\n",
       "      <td>0.000000</td>\n",
       "      <td>0.000000</td>\n",
       "      <td>0.000000</td>\n",
       "      <td>0.000000</td>\n",
       "      <td>0.000000</td>\n",
       "      <td>16.0</td>\n",
       "    </tr>\n",
       "    <tr>\n",
       "      <th>320769</th>\n",
       "      <td>1142.855327</td>\n",
       "      <td>12.8562</td>\n",
       "      <td>4.817057</td>\n",
       "      <td>32.059983</td>\n",
       "      <td>15.502996</td>\n",
       "      <td>2.245487</td>\n",
       "      <td>7.078369</td>\n",
       "      <td>2.028624</td>\n",
       "      <td>0.798669</td>\n",
       "      <td>13.0</td>\n",
       "    </tr>\n",
       "    <tr>\n",
       "      <th>320770</th>\n",
       "      <td>1142.855327</td>\n",
       "      <td>12.8562</td>\n",
       "      <td>4.817057</td>\n",
       "      <td>32.059983</td>\n",
       "      <td>15.502996</td>\n",
       "      <td>2.245487</td>\n",
       "      <td>7.078369</td>\n",
       "      <td>2.028624</td>\n",
       "      <td>0.798669</td>\n",
       "      <td>13.0</td>\n",
       "    </tr>\n",
       "    <tr>\n",
       "      <th>320771</th>\n",
       "      <td>2092.000000</td>\n",
       "      <td>0.0000</td>\n",
       "      <td>1.568073</td>\n",
       "      <td>0.000000</td>\n",
       "      <td>0.000000</td>\n",
       "      <td>-6.161783</td>\n",
       "      <td>0.000000</td>\n",
       "      <td>0.000000</td>\n",
       "      <td>0.000000</td>\n",
       "      <td>16.0</td>\n",
       "    </tr>\n",
       "  </tbody>\n",
       "</table>\n",
       "<p>320772 rows × 10 columns</p>\n",
       "</div>"
      ],
      "text/plain": [
       "        energy_100g  fat_100g  saturated-fat_100g  carbohydrates_100g  \\\n",
       "0       1142.855327   12.8562            4.817057           32.059983   \n",
       "1       2243.000000   28.5700           28.570000           64.290000   \n",
       "2       1941.000000   17.8600            0.000000           60.710000   \n",
       "3       2540.000000   57.1400            5.360000           17.860000   \n",
       "4       1552.000000    1.4300            1.148830           77.140000   \n",
       "...             ...       ...                 ...                 ...   \n",
       "320767  1142.855327   12.8562            4.817057           32.059983   \n",
       "320768     0.000000    0.0000            0.000000            0.000000   \n",
       "320769  1142.855327   12.8562            4.817057           32.059983   \n",
       "320770  1142.855327   12.8562            4.817057           32.059983   \n",
       "320771  2092.000000    0.0000            1.568073            0.000000   \n",
       "\n",
       "        sugars_100g  fiber_100g  proteins_100g  salt_100g  sodium_100g  \\\n",
       "0         15.502996    2.245487       7.078369   2.028624     0.798669   \n",
       "1         14.290000    3.600000       3.570000   0.000000     0.000000   \n",
       "2         17.860000    7.100000      17.860000   0.635000     0.250000   \n",
       "3          3.570000    7.100000      17.860000   1.224280     0.482000   \n",
       "4         35.170236    5.700000       8.570000   2.028945     0.798797   \n",
       "...             ...         ...            ...        ...          ...   \n",
       "320767    15.502996    2.245487       7.078369   2.028624     0.798669   \n",
       "320768     0.000000    0.000000       0.000000   0.000000     0.000000   \n",
       "320769    15.502996    2.245487       7.078369   2.028624     0.798669   \n",
       "320770    15.502996    2.245487       7.078369   2.028624     0.798669   \n",
       "320771     0.000000   -6.161783       0.000000   0.000000     0.000000   \n",
       "\n",
       "        nutrition-score-fr_100g  \n",
       "0                          13.0  \n",
       "1                          14.0  \n",
       "2                          13.0  \n",
       "3                          12.0  \n",
       "4                          16.0  \n",
       "...                         ...  \n",
       "320767                     13.0  \n",
       "320768                     16.0  \n",
       "320769                     13.0  \n",
       "320770                     13.0  \n",
       "320771                     16.0  \n",
       "\n",
       "[320772 rows x 10 columns]"
      ]
     },
     "execution_count": 13,
     "metadata": {},
     "output_type": "execute_result"
    }
   ],
   "source": [
    "data_desc= data.loc[:,list]\n",
    "data_desc"
   ]
  },
  {
   "cell_type": "code",
   "execution_count": null,
   "id": "5fa10635",
   "metadata": {},
   "outputs": [],
   "source": [
    "plt.figure(figsize=(30,20))\n",
    "sns.set(font_scale=1.5)\n",
    "sns.set_style(\"whitegrid\")\n",
    "sns.pairplot(data_desc)\n",
    "plt.tight_layout()"
   ]
  },
  {
   "cell_type": "code",
   "execution_count": null,
   "id": "695e61f8",
   "metadata": {},
   "outputs": [],
   "source": [
    "fig, axs = plt.subplots(4,3,figsize=(10,20))\n",
    "axs = axs.ravel()\n",
    "\n",
    "for i in range(data_desc.shape[1]): \n",
    "    sns.distplot(data_desc[data_desc.columns[i]],ax=axs[i])\n",
    "fig.suptitle('Distribution pour chaque caractéristique de jeu de données de data_desc')\n",
    "plt.show()"
   ]
  },
  {
   "cell_type": "code",
   "execution_count": 14,
   "id": "c9672a88",
   "metadata": {},
   "outputs": [
    {
     "data": {
      "text/plain": [
       "0         1142.855327\n",
       "1         2243.000000\n",
       "2         1941.000000\n",
       "3         2540.000000\n",
       "4         1552.000000\n",
       "             ...     \n",
       "320767    1142.855327\n",
       "320768       0.000000\n",
       "320769    1142.855327\n",
       "320770    1142.855327\n",
       "320771    2092.000000\n",
       "Name: energy_100g, Length: 320772, dtype: float64"
      ]
     },
     "execution_count": 14,
     "metadata": {},
     "output_type": "execute_result"
    }
   ],
   "source": [
    "data[data.columns[0]]"
   ]
  },
  {
   "cell_type": "code",
   "execution_count": 15,
   "id": "6870686f",
   "metadata": {},
   "outputs": [
    {
     "data": {
      "text/html": [
       "<div>\n",
       "<style scoped>\n",
       "    .dataframe tbody tr th:only-of-type {\n",
       "        vertical-align: middle;\n",
       "    }\n",
       "\n",
       "    .dataframe tbody tr th {\n",
       "        vertical-align: top;\n",
       "    }\n",
       "\n",
       "    .dataframe thead th {\n",
       "        text-align: right;\n",
       "    }\n",
       "</style>\n",
       "<table border=\"1\" class=\"dataframe\">\n",
       "  <thead>\n",
       "    <tr style=\"text-align: right;\">\n",
       "      <th></th>\n",
       "      <th>coef_pearson</th>\n",
       "      <th>p_value</th>\n",
       "    </tr>\n",
       "  </thead>\n",
       "  <tbody>\n",
       "    <tr>\n",
       "      <th>fat_100g</th>\n",
       "      <td>0.252446</td>\n",
       "      <td>0.000000</td>\n",
       "    </tr>\n",
       "    <tr>\n",
       "      <th>saturated-fat_100g</th>\n",
       "      <td>0.443172</td>\n",
       "      <td>0.000000</td>\n",
       "    </tr>\n",
       "    <tr>\n",
       "      <th>carbohydrates_100g</th>\n",
       "      <td>0.127805</td>\n",
       "      <td>0.000000</td>\n",
       "    </tr>\n",
       "    <tr>\n",
       "      <th>sugars_100g</th>\n",
       "      <td>0.236686</td>\n",
       "      <td>0.000000</td>\n",
       "    </tr>\n",
       "    <tr>\n",
       "      <th>fiber_100g</th>\n",
       "      <td>0.001517</td>\n",
       "      <td>0.390317</td>\n",
       "    </tr>\n",
       "    <tr>\n",
       "      <th>proteins_100g</th>\n",
       "      <td>0.102504</td>\n",
       "      <td>0.000000</td>\n",
       "    </tr>\n",
       "    <tr>\n",
       "      <th>salt_100g</th>\n",
       "      <td>0.005559</td>\n",
       "      <td>0.001641</td>\n",
       "    </tr>\n",
       "    <tr>\n",
       "      <th>sodium_100g</th>\n",
       "      <td>0.005559</td>\n",
       "      <td>0.001641</td>\n",
       "    </tr>\n",
       "    <tr>\n",
       "      <th>nutrition-score-fr_100g</th>\n",
       "      <td>1.000000</td>\n",
       "      <td>0.000000</td>\n",
       "    </tr>\n",
       "  </tbody>\n",
       "</table>\n",
       "</div>"
      ],
      "text/plain": [
       "                         coef_pearson   p_value\n",
       "fat_100g                     0.252446  0.000000\n",
       "saturated-fat_100g           0.443172  0.000000\n",
       "carbohydrates_100g           0.127805  0.000000\n",
       "sugars_100g                  0.236686  0.000000\n",
       "fiber_100g                   0.001517  0.390317\n",
       "proteins_100g                0.102504  0.000000\n",
       "salt_100g                    0.005559  0.001641\n",
       "sodium_100g                  0.005559  0.001641\n",
       "nutrition-score-fr_100g      1.000000  0.000000"
      ]
     },
     "execution_count": 15,
     "metadata": {},
     "output_type": "execute_result"
    }
   ],
   "source": [
    "test_pear = pd.DataFrame(columns=['coef_pearson','p_value'])\n",
    "\n",
    "for i in range(1,len(data_desc.columns)):\n",
    "\n",
    "    pear, pval = stats.pearsonr(data_desc['nutrition-score-fr_100g'], data_desc[data_desc.columns[i]])\n",
    "    test_pear.loc[data_desc.columns[i]]=[pear,pval]\n",
    "    \n",
    "test_pear "
   ]
  },
  {
   "cell_type": "markdown",
   "id": "5ce5f6c1",
   "metadata": {},
   "source": [
    "Hypothèse nulle : la corrélation entre les deux caractéristiques étudiées est nulle \n",
    "\n",
    "Rejet d'hypothèse nulle p_valeur = 0 \n",
    "\n",
    "=> La corrélation entre nos fonctionnalités n'est pas nulle"
   ]
  },
  {
   "cell_type": "code",
   "execution_count": 16,
   "id": "88b7f462",
   "metadata": {},
   "outputs": [
    {
     "name": "stderr",
     "output_type": "stream",
     "text": [
      "C:\\Users\\dtulomba\\AppData\\Local\\Temp/ipykernel_24072/58644846.py:3: DeprecationWarning: `np.bool` is a deprecated alias for the builtin `bool`. To silence this warning, use `bool` by itself. Doing this will not modify any behavior and is safe. If you specifically wanted the numpy scalar type, use `np.bool_` here.\n",
      "Deprecated in NumPy 1.20; for more details and guidance: https://numpy.org/devdocs/release/1.20.0-notes.html#deprecations\n",
      "  mask = np.triu(np.ones_like(data.corr(), dtype=np.bool))\n"
     ]
    },
    {
     "data": {
      "image/png": "[encoded data removed]",
      "text/plain": [
       "<Figure size 1152x432 with 2 Axes>"
      ]
     },
     "metadata": {
      "needs_background": "light"
     },
     "output_type": "display_data"
    }
   ],
   "source": [
    "plt.figure(figsize=(16, 6))\n",
    "# define the mask to set the values in the upper triangle to True\n",
    "mask = np.triu(np.ones_like(data.corr(), dtype=np.bool))\n",
    "heatmap = sns.heatmap(data.corr(), mask=mask, vmin=-1, vmax=1, annot=True, cmap='BrBG')\n",
    "heatmap.set_title('Triangle Correlation Heatmap', fontdict={'fontsize':18}, pad=16);"
   ]
  },
  {
   "cell_type": "code",
   "execution_count": 17,
   "id": "cfa8bd3f",
   "metadata": {},
   "outputs": [
    {
     "data": {
      "text/plain": [
       "Text(0.5, 0.98, 'Corrélation Nutriscore_score avec autres features')"
      ]
     },
     "execution_count": 17,
     "metadata": {},
     "output_type": "execute_result"
    },
    {
     "data": {
      "image/png": "[encoded data removed]",
      "text/plain": [
       "<Figure size 432x288 with 2 Axes>"
      ]
     },
     "metadata": {
      "needs_background": "light"
     },
     "output_type": "display_data"
    }
   ],
   "source": [
    "sns.heatmap(test_pear.drop(columns=['p_value']))\n",
    "plt.suptitle('Corrélation Nutriscore_score avec autres features')"
   ]
  },
  {
   "cell_type": "markdown",
   "id": "876f3792",
   "metadata": {},
   "source": [
    "Nous pouvons observer une corrélation peu significative entre les caractéristiques suivantes:\n",
    "\n",
    "    - graisses et graisses saturées (fat & saturated-fat )\n",
    "    - sucres (sugars)"
   ]
  },
  {
   "cell_type": "code",
   "execution_count": 18,
   "id": "d1d41757",
   "metadata": {
    "scrolled": true
   },
   "outputs": [
    {
     "data": {
      "text/plain": [
       "<AxesSubplot:>"
      ]
     },
     "execution_count": 18,
     "metadata": {},
     "output_type": "execute_result"
    },
    {
     "data": {
      "image/png": "[encoded data removed]",
      "text/plain": [
       "<Figure size 432x288 with 2 Axes>"
      ]
     },
     "metadata": {
      "needs_background": "light"
     },
     "output_type": "display_data"
    }
   ],
   "source": [
    "sns.heatmap(data.corr())"
   ]
  },
  {
   "cell_type": "markdown",
   "id": "d8e3369a",
   "metadata": {},
   "source": [
    "Nous pouvons observer une corrélation significative entre les caractéristiques suivantes:\n",
    "\n",
    "    - graisses / graisses saturées (fat/ saturated-fat à 66%)\n",
    "    - glucides / sucres (carbohydrates/ sugars)\n",
    "    - sel / sodium (salt/sodium)\n",
    "    - le sucre et les protéines sont négativement corrélées\n",
    "    "
   ]
  },
  {
   "cell_type": "markdown",
   "id": "20b6fe33",
   "metadata": {},
   "source": [
    "### Faire des boxplot \n",
    "\n",
    "x = nutriscore_grade \n",
    "y= les autres variables "
   ]
  },
  {
   "cell_type": "markdown",
   "id": "a752b0b6",
   "metadata": {},
   "source": [
    "### Test de corrélation entre le nutriscore_grade et les (autres variables -> nutrition facts ou les variables nutritionnelles)"
   ]
  },
  {
   "cell_type": "markdown",
   "id": "0c23d980",
   "metadata": {},
   "source": [
    "### Test de normalité (Kolmogorov-Smirnov)"
   ]
  },
  {
   "cell_type": "code",
   "execution_count": 19,
   "id": "74e5f6cd",
   "metadata": {
    "scrolled": true
   },
   "outputs": [
    {
     "name": "stdout",
     "output_type": "stream",
     "text": [
      "===================\n",
      "null hypothesis : studied feature follow a normal distribution.\n",
      " ===================\n",
      "\n",
      "\n",
      "D= 0.971381045578837\n",
      "P-value= 0.0\n",
      "P-value is lower than alpha (0.05) we can reject the null hypothesis\n",
      " => energy_100g does not follow normal distribution\n",
      "----------------\n",
      "\n",
      "D= 0.6758757178934789\n",
      "P-value= 0.0\n",
      "P-value is lower than alpha (0.05) we can reject the null hypothesis\n",
      " => fat_100g does not follow normal distribution\n",
      "----------------\n",
      "\n",
      "D= 0.5780903835790684\n",
      "P-value= 0.0\n",
      "P-value is lower than alpha (0.05) we can reject the null hypothesis\n",
      " => saturated-fat_100g does not follow normal distribution\n",
      "----------------\n",
      "\n",
      "D= 0.8807131334222442\n",
      "P-value= 0.0\n",
      "P-value is lower than alpha (0.05) we can reject the null hypothesis\n",
      " => carbohydrates_100g does not follow normal distribution\n",
      "----------------\n",
      "\n",
      "D= 0.7401874062409395\n",
      "P-value= 0.0\n",
      "P-value is lower than alpha (0.05) we can reject the null hypothesis\n",
      " => sugars_100g does not follow normal distribution\n",
      "----------------\n",
      "\n",
      "D= 0.5008726497417149\n",
      "P-value= 0.0\n",
      "P-value is lower than alpha (0.05) we can reject the null hypothesis\n",
      " => fiber_100g does not follow normal distribution\n",
      "----------------\n",
      "\n",
      "D= 0.714953318182781\n",
      "P-value= 0.0\n",
      "P-value is lower than alpha (0.05) we can reject the null hypothesis\n",
      " => proteins_100g does not follow normal distribution\n",
      "----------------\n",
      "\n",
      "D= 0.5\n",
      "P-value= 0.0\n",
      "P-value is lower than alpha (0.05) we can reject the null hypothesis\n",
      " => salt_100g does not follow normal distribution\n",
      "----------------\n",
      "\n",
      "D= 0.49999809681737417\n",
      "P-value= 0.0\n",
      "P-value is lower than alpha (0.05) we can reject the null hypothesis\n",
      " => sodium_100g does not follow normal distribution\n",
      "----------------\n",
      "\n",
      "D= 0.9421221137590521\n",
      "P-value= 0.0\n",
      "P-value is lower than alpha (0.05) we can reject the null hypothesis\n",
      " => nutrition-score-fr_100g does not follow normal distribution\n",
      "----------------\n",
      "\n"
     ]
    }
   ],
   "source": [
    "alpha= 0.05\n",
    "print('===================\\nnull hypothesis : studied feature follow a normal distribution.\\n ===================\\n\\n')\n",
    "\n",
    "for i in range(len(data_desc.columns)): \n",
    "    \n",
    "    D, pval = stats.kstest(data_desc[data_desc.columns[i]], 'norm')\n",
    "    print('D= {}\\nP-value= {}'.format(D,pval))\n",
    "    if pval<alpha: \n",
    "        print('P-value is lower than alpha ({}) we can reject the null hypothesis\\n => {} does not follow normal distribution'\n",
    "              .format(alpha,data_desc.columns[i]))\n",
    "    else : \n",
    "        print('We cannot reject the null hypothesis')\n",
    "    print('----------------\\n')"
   ]
  },
  {
   "cell_type": "markdown",
   "id": "5f25e592",
   "metadata": {},
   "source": [
    "On rejette les hypothèses nulles car notre p_value est inférieure à 0.05, nos variables ne suivent pas une distribution normal donc on va faire un test kruskall-wallis car le test d'anova nécessite que nos variables suivent une loi normale. "
   ]
  },
  {
   "cell_type": "markdown",
   "id": "7fb312cb",
   "metadata": {},
   "source": [
    "### Test De kruskall-wallis"
   ]
  },
  {
   "cell_type": "code",
   "execution_count": 20,
   "id": "97d7793a",
   "metadata": {},
   "outputs": [
    {
     "data": {
      "text/plain": [
       "Index(['sodium_100g', 'nutrition-score-fr_100g'], dtype='object')"
      ]
     },
     "execution_count": 20,
     "metadata": {},
     "output_type": "execute_result"
    }
   ],
   "source": [
    "data_desc.columns[-2:]"
   ]
  },
  {
   "cell_type": "code",
   "execution_count": 21,
   "id": "4915b4f0",
   "metadata": {},
   "outputs": [
    {
     "data": {
      "text/html": [
       "<div>\n",
       "<style scoped>\n",
       "    .dataframe tbody tr th:only-of-type {\n",
       "        vertical-align: middle;\n",
       "    }\n",
       "\n",
       "    .dataframe tbody tr th {\n",
       "        vertical-align: top;\n",
       "    }\n",
       "\n",
       "    .dataframe thead th {\n",
       "        text-align: right;\n",
       "    }\n",
       "</style>\n",
       "<table border=\"1\" class=\"dataframe\">\n",
       "  <thead>\n",
       "    <tr style=\"text-align: right;\">\n",
       "      <th></th>\n",
       "      <th>energy_100g</th>\n",
       "      <th>fat_100g</th>\n",
       "      <th>saturated-fat_100g</th>\n",
       "      <th>carbohydrates_100g</th>\n",
       "      <th>sugars_100g</th>\n",
       "      <th>fiber_100g</th>\n",
       "      <th>proteins_100g</th>\n",
       "      <th>salt_100g</th>\n",
       "      <th>sodium_100g</th>\n",
       "      <th>nutrition-score-fr_100g</th>\n",
       "    </tr>\n",
       "  </thead>\n",
       "  <tbody>\n",
       "    <tr>\n",
       "      <th>count</th>\n",
       "      <td>3.207720e+05</td>\n",
       "      <td>320772.000000</td>\n",
       "      <td>320772.000000</td>\n",
       "      <td>320772.000000</td>\n",
       "      <td>320772.000000</td>\n",
       "      <td>320772.000000</td>\n",
       "      <td>320772.000000</td>\n",
       "      <td>320772.000000</td>\n",
       "      <td>320772.000000</td>\n",
       "      <td>320772.000000</td>\n",
       "    </tr>\n",
       "    <tr>\n",
       "      <th>mean</th>\n",
       "      <td>1.142855e+03</td>\n",
       "      <td>12.856200</td>\n",
       "      <td>4.817057</td>\n",
       "      <td>32.059983</td>\n",
       "      <td>15.502996</td>\n",
       "      <td>2.245487</td>\n",
       "      <td>7.078369</td>\n",
       "      <td>2.028624</td>\n",
       "      <td>0.798669</td>\n",
       "      <td>13.284062</td>\n",
       "    </tr>\n",
       "    <tr>\n",
       "      <th>std</th>\n",
       "      <td>5.817373e+03</td>\n",
       "      <td>19.064569</td>\n",
       "      <td>6.891260</td>\n",
       "      <td>34.976868</td>\n",
       "      <td>19.881705</td>\n",
       "      <td>10.672261</td>\n",
       "      <td>7.575627</td>\n",
       "      <td>114.479784</td>\n",
       "      <td>45.070780</td>\n",
       "      <td>5.580348</td>\n",
       "    </tr>\n",
       "    <tr>\n",
       "      <th>min</th>\n",
       "      <td>0.000000e+00</td>\n",
       "      <td>-9.543870</td>\n",
       "      <td>-84.376696</td>\n",
       "      <td>-162.957668</td>\n",
       "      <td>-61.649820</td>\n",
       "      <td>-61.345246</td>\n",
       "      <td>-800.000000</td>\n",
       "      <td>0.000000</td>\n",
       "      <td>-0.000005</td>\n",
       "      <td>1.000000</td>\n",
       "    </tr>\n",
       "    <tr>\n",
       "      <th>25%</th>\n",
       "      <td>4.990000e+02</td>\n",
       "      <td>0.880000</td>\n",
       "      <td>0.200000</td>\n",
       "      <td>9.400000</td>\n",
       "      <td>2.200000</td>\n",
       "      <td>0.000000</td>\n",
       "      <td>1.600000</td>\n",
       "      <td>0.120000</td>\n",
       "      <td>0.047244</td>\n",
       "      <td>12.000000</td>\n",
       "    </tr>\n",
       "    <tr>\n",
       "      <th>50%</th>\n",
       "      <td>1.142855e+03</td>\n",
       "      <td>10.737726</td>\n",
       "      <td>3.330000</td>\n",
       "      <td>32.059983</td>\n",
       "      <td>10.620000</td>\n",
       "      <td>2.171025</td>\n",
       "      <td>6.940000</td>\n",
       "      <td>0.952500</td>\n",
       "      <td>0.375000</td>\n",
       "      <td>13.000000</td>\n",
       "    </tr>\n",
       "    <tr>\n",
       "      <th>75%</th>\n",
       "      <td>1.569000e+03</td>\n",
       "      <td>16.000000</td>\n",
       "      <td>5.000000</td>\n",
       "      <td>50.000000</td>\n",
       "      <td>16.670000</td>\n",
       "      <td>3.080334</td>\n",
       "      <td>8.330000</td>\n",
       "      <td>2.028624</td>\n",
       "      <td>0.798669</td>\n",
       "      <td>16.000000</td>\n",
       "    </tr>\n",
       "    <tr>\n",
       "      <th>max</th>\n",
       "      <td>3.251373e+06</td>\n",
       "      <td>6006.376345</td>\n",
       "      <td>550.000000</td>\n",
       "      <td>12981.349295</td>\n",
       "      <td>3520.000000</td>\n",
       "      <td>5380.000000</td>\n",
       "      <td>430.000000</td>\n",
       "      <td>64312.800000</td>\n",
       "      <td>25320.000000</td>\n",
       "      <td>40.000000</td>\n",
       "    </tr>\n",
       "  </tbody>\n",
       "</table>\n",
       "</div>"
      ],
      "text/plain": [
       "        energy_100g       fat_100g  saturated-fat_100g  carbohydrates_100g  \\\n",
       "count  3.207720e+05  320772.000000       320772.000000       320772.000000   \n",
       "mean   1.142855e+03      12.856200            4.817057           32.059983   \n",
       "std    5.817373e+03      19.064569            6.891260           34.976868   \n",
       "min    0.000000e+00      -9.543870          -84.376696         -162.957668   \n",
       "25%    4.990000e+02       0.880000            0.200000            9.400000   \n",
       "50%    1.142855e+03      10.737726            3.330000           32.059983   \n",
       "75%    1.569000e+03      16.000000            5.000000           50.000000   \n",
       "max    3.251373e+06    6006.376345          550.000000        12981.349295   \n",
       "\n",
       "         sugars_100g     fiber_100g  proteins_100g      salt_100g  \\\n",
       "count  320772.000000  320772.000000  320772.000000  320772.000000   \n",
       "mean       15.502996       2.245487       7.078369       2.028624   \n",
       "std        19.881705      10.672261       7.575627     114.479784   \n",
       "min       -61.649820     -61.345246    -800.000000       0.000000   \n",
       "25%         2.200000       0.000000       1.600000       0.120000   \n",
       "50%        10.620000       2.171025       6.940000       0.952500   \n",
       "75%        16.670000       3.080334       8.330000       2.028624   \n",
       "max      3520.000000    5380.000000     430.000000   64312.800000   \n",
       "\n",
       "         sodium_100g  nutrition-score-fr_100g  \n",
       "count  320772.000000            320772.000000  \n",
       "mean        0.798669                13.284062  \n",
       "std        45.070780                 5.580348  \n",
       "min        -0.000005                 1.000000  \n",
       "25%         0.047244                12.000000  \n",
       "50%         0.375000                13.000000  \n",
       "75%         0.798669                16.000000  \n",
       "max     25320.000000                40.000000  "
      ]
     },
     "execution_count": 21,
     "metadata": {},
     "output_type": "execute_result"
    }
   ],
   "source": [
    "data.describe()"
   ]
  },
  {
   "cell_type": "code",
   "execution_count": 22,
   "id": "958c6d88",
   "metadata": {
    "scrolled": true
   },
   "outputs": [
    {
     "data": {
      "text/plain": [
       "Index(['energy_100g', 'fat_100g', 'saturated-fat_100g', 'carbohydrates_100g',\n",
       "       'sugars_100g', 'fiber_100g', 'proteins_100g', 'salt_100g',\n",
       "       'sodium_100g', 'nutrition-score-fr_100g', 'nutrition_grade_fr'],\n",
       "      dtype='object')"
      ]
     },
     "execution_count": 22,
     "metadata": {},
     "output_type": "execute_result"
    }
   ],
   "source": [
    "data.columns"
   ]
  },
  {
   "cell_type": "code",
   "execution_count": 23,
   "id": "7d58702e",
   "metadata": {},
   "outputs": [],
   "source": [
    "data.loc[data.nutrition_grade_fr == 'a', \"groupe_nutriscore\"]= \"Groupe A\"\n",
    "data.loc[data.nutrition_grade_fr == 'b', \"groupe_nutriscore\"]= \"Groupe B\"\n",
    "data.loc[data.nutrition_grade_fr == 'c', \"groupe_nutriscore\"] = \"Groupe C\"\n",
    "data.loc[data.nutrition_grade_fr == 'd', \"groupe_nutriscore\"]= \"Groupe D\"\n",
    "data.loc[data.nutrition_grade_fr == 'e', \"groupe_nutriscore\"]= \"Groupe E\""
   ]
  },
  {
   "cell_type": "code",
   "execution_count": 24,
   "id": "6c3a7a12",
   "metadata": {},
   "outputs": [
    {
     "name": "stdout",
     "output_type": "stream",
     "text": [
      "===================\n",
      "null hypothesis : the median of all of the groups are equal.\n",
      " ===================\n",
      "\n",
      "\n"
     ]
    },
    {
     "data": {
      "image/png": "[encoded data removed]",
      "text/plain": [
       "<Figure size 1440x432 with 1 Axes>"
      ]
     },
     "metadata": {
      "needs_background": "light"
     },
     "output_type": "display_data"
    },
    {
     "name": "stdout",
     "output_type": "stream",
     "text": [
      "Test de kruskall-wallis entre energy_100g et nutrition_grade\n",
      "D= 85554.07654614591\n",
      "P-value= 0.0\n",
      "P-value is lower than alpha (0.05) we can reject the null hypothesis\n",
      " => energy_100g is correlated to nutrition_grade_fr\n",
      "----------------\n",
      "\n"
     ]
    },
    {
     "data": {
      "image/png": "[encoded data removed]",
      "text/plain": [
       "<Figure size 1440x432 with 1 Axes>"
      ]
     },
     "metadata": {
      "needs_background": "light"
     },
     "output_type": "display_data"
    },
    {
     "name": "stdout",
     "output_type": "stream",
     "text": [
      "Test de kruskall-wallis entre fat_100g et nutrition_grade\n",
      "D= 83729.19994765607\n",
      "P-value= 0.0\n",
      "P-value is lower than alpha (0.05) we can reject the null hypothesis\n",
      " => fat_100g is correlated to nutrition_grade_fr\n",
      "----------------\n",
      "\n"
     ]
    },
    {
     "data": {
      "image/png": "[encoded data removed]",
      "text/plain": [
       "<Figure size 1440x432 with 1 Axes>"
      ]
     },
     "metadata": {
      "needs_background": "light"
     },
     "output_type": "display_data"
    },
    {
     "name": "stdout",
     "output_type": "stream",
     "text": [
      "Test de kruskall-wallis entre saturated-fat_100g et nutrition_grade\n",
      "D= 142533.7726528499\n",
      "P-value= 0.0\n",
      "P-value is lower than alpha (0.05) we can reject the null hypothesis\n",
      " => saturated-fat_100g is correlated to nutrition_grade_fr\n",
      "----------------\n",
      "\n"
     ]
    },
    {
     "data": {
      "image/png": "[encoded data removed]",
      "text/plain": [
       "<Figure size 1440x432 with 1 Axes>"
      ]
     },
     "metadata": {
      "needs_background": "light"
     },
     "output_type": "display_data"
    },
    {
     "name": "stdout",
     "output_type": "stream",
     "text": [
      "Test de kruskall-wallis entre carbohydrates_100g et nutrition_grade\n",
      "D= 16179.737035266124\n",
      "P-value= 0.0\n",
      "P-value is lower than alpha (0.05) we can reject the null hypothesis\n",
      " => carbohydrates_100g is correlated to nutrition_grade_fr\n",
      "----------------\n",
      "\n"
     ]
    },
    {
     "data": {
      "image/png": "[encoded data removed]",
      "text/plain": [
       "<Figure size 1440x432 with 1 Axes>"
      ]
     },
     "metadata": {
      "needs_background": "light"
     },
     "output_type": "display_data"
    },
    {
     "name": "stdout",
     "output_type": "stream",
     "text": [
      "Test de kruskall-wallis entre sugars_100g et nutrition_grade\n",
      "D= 55534.206096364855\n",
      "P-value= 0.0\n",
      "P-value is lower than alpha (0.05) we can reject the null hypothesis\n",
      " => sugars_100g is correlated to nutrition_grade_fr\n",
      "----------------\n",
      "\n"
     ]
    },
    {
     "data": {
      "image/png": "[encoded data removed]",
      "text/plain": [
       "<Figure size 1440x432 with 1 Axes>"
      ]
     },
     "metadata": {
      "needs_background": "light"
     },
     "output_type": "display_data"
    },
    {
     "name": "stdout",
     "output_type": "stream",
     "text": [
      "Test de kruskall-wallis entre fiber_100g et nutrition_grade\n",
      "D= 13121.372703400082\n",
      "P-value= 0.0\n",
      "P-value is lower than alpha (0.05) we can reject the null hypothesis\n",
      " => fiber_100g is correlated to nutrition_grade_fr\n",
      "----------------\n",
      "\n"
     ]
    },
    {
     "data": {
      "image/png": "[encoded data removed]",
      "text/plain": [
       "<Figure size 1440x432 with 1 Axes>"
      ]
     },
     "metadata": {
      "needs_background": "light"
     },
     "output_type": "display_data"
    },
    {
     "name": "stdout",
     "output_type": "stream",
     "text": [
      "Test de kruskall-wallis entre proteins_100g et nutrition_grade\n",
      "D= 8119.103604162568\n",
      "P-value= 0.0\n",
      "P-value is lower than alpha (0.05) we can reject the null hypothesis\n",
      " => proteins_100g is correlated to nutrition_grade_fr\n",
      "----------------\n",
      "\n"
     ]
    },
    {
     "data": {
      "image/png": "[encoded data removed]",
      "text/plain": [
       "<Figure size 1440x432 with 1 Axes>"
      ]
     },
     "metadata": {
      "needs_background": "light"
     },
     "output_type": "display_data"
    },
    {
     "name": "stdout",
     "output_type": "stream",
     "text": [
      "Test de kruskall-wallis entre salt_100g et nutrition_grade\n",
      "D= 49219.73970903919\n",
      "P-value= 0.0\n",
      "P-value is lower than alpha (0.05) we can reject the null hypothesis\n",
      " => salt_100g is correlated to nutrition_grade_fr\n",
      "----------------\n",
      "\n"
     ]
    },
    {
     "data": {
      "image/png": "[encoded data removed]",
      "text/plain": [
       "<Figure size 1440x432 with 1 Axes>"
      ]
     },
     "metadata": {
      "needs_background": "light"
     },
     "output_type": "display_data"
    },
    {
     "name": "stdout",
     "output_type": "stream",
     "text": [
      "Test de kruskall-wallis entre sodium_100g et nutrition_grade\n",
      "D= 49214.65871900074\n",
      "P-value= 0.0\n",
      "P-value is lower than alpha (0.05) we can reject the null hypothesis\n",
      " => sodium_100g is correlated to nutrition_grade_fr\n",
      "----------------\n",
      "\n"
     ]
    },
    {
     "data": {
      "image/png": "[encoded data removed]",
      "text/plain": [
       "<Figure size 1440x432 with 1 Axes>"
      ]
     },
     "metadata": {
      "needs_background": "light"
     },
     "output_type": "display_data"
    },
    {
     "name": "stdout",
     "output_type": "stream",
     "text": [
      "Test de kruskall-wallis entre nutrition-score-fr_100g et nutrition_grade\n",
      "D= 203494.3160286262\n",
      "P-value= 0.0\n",
      "P-value is lower than alpha (0.05) we can reject the null hypothesis\n",
      " => nutrition-score-fr_100g is correlated to nutrition_grade_fr\n",
      "----------------\n",
      "\n"
     ]
    }
   ],
   "source": [
    "alpha= 0.05\n",
    "print('===================\\nnull hypothesis : the median of all of the groups are equal.\\n ===================\\n\\n')\n",
    "\n",
    "for i in data.columns[:-2]:\n",
    "    \n",
    "    data.sort_values(\"groupe_nutriscore\", inplace = True)\n",
    "    plt.subplots(figsize=(20,6))\n",
    "    ax = sns.boxplot(y=i, x=\"groupe_nutriscore\", data=data, showfliers=False).set(title=\"Distribution de \" + i + \" en fonction du nutriscore_grade\" )\n",
    "    plt.show()\n",
    "    \n",
    "    team_a = data[data.groupe_nutriscore == 'Groupe A'][i]\n",
    "    team_b = data[data.groupe_nutriscore == 'Groupe B'][i]\n",
    "    team_c = data[data.groupe_nutriscore == 'Groupe C'][i]\n",
    "    team_d = data[data.groupe_nutriscore == 'Groupe D'][i]\n",
    "    team_e = data[data.groupe_nutriscore == 'Groupe E'][i]\n",
    "    \n",
    "    \n",
    "    D, pval =  stats.kruskal(team_a, team_b, team_c, team_d, team_e)\n",
    "    \n",
    "    print('Test de kruskall-wallis entre {} et nutrition_grade'.format(i))\n",
    "    print('D= {}\\nP-value= {}'.format(D,pval))\n",
    "    \n",
    "    if pval<alpha: \n",
    "        print('P-value is lower than alpha ({}) we can reject the null hypothesis\\n => {} is correlated to nutrition_grade_fr'\n",
    "              .format(alpha,i))\n",
    "    else : \n",
    "        print('We cannot reject the null hypothesis')\n",
    "    print('----------------\\n')"
   ]
  },
  {
   "cell_type": "markdown",
   "id": "d0f17881",
   "metadata": {},
   "source": [
    "Plus le groupe est élevé (c,d,e) plus l'énergie est élevé. l'énergie est donc corrélé avec le nutriscore_grade_fr.\n",
    "Toute nos variables sont corrélées avec le nutriscore_grade_fr."
   ]
  },
  {
   "cell_type": "markdown",
   "id": "86f79067",
   "metadata": {},
   "source": [
    "### ANALYSE MULTIDIMENTIONNELLE  ACP"
   ]
  },
  {
   "cell_type": "code",
   "execution_count": 37,
   "id": "1b4e37d5",
   "metadata": {},
   "outputs": [],
   "source": [
    "data_pca = data.copy()"
   ]
  },
  {
   "cell_type": "code",
   "execution_count": 38,
   "id": "4515198b",
   "metadata": {},
   "outputs": [
    {
     "data": {
      "text/html": [
       "<div>\n",
       "<style scoped>\n",
       "    .dataframe tbody tr th:only-of-type {\n",
       "        vertical-align: middle;\n",
       "    }\n",
       "\n",
       "    .dataframe tbody tr th {\n",
       "        vertical-align: top;\n",
       "    }\n",
       "\n",
       "    .dataframe thead th {\n",
       "        text-align: right;\n",
       "    }\n",
       "</style>\n",
       "<table border=\"1\" class=\"dataframe\">\n",
       "  <thead>\n",
       "    <tr style=\"text-align: right;\">\n",
       "      <th></th>\n",
       "      <th>energy_100g</th>\n",
       "      <th>fat_100g</th>\n",
       "      <th>saturated-fat_100g</th>\n",
       "      <th>carbohydrates_100g</th>\n",
       "      <th>sugars_100g</th>\n",
       "      <th>fiber_100g</th>\n",
       "      <th>proteins_100g</th>\n",
       "      <th>salt_100g</th>\n",
       "    </tr>\n",
       "  </thead>\n",
       "  <tbody>\n",
       "    <tr>\n",
       "      <th>235646</th>\n",
       "      <td>64.0</td>\n",
       "      <td>0.00</td>\n",
       "      <td>0.00</td>\n",
       "      <td>1.90</td>\n",
       "      <td>1.70</td>\n",
       "      <td>1.400000</td>\n",
       "      <td>1.20</td>\n",
       "      <td>0.91400</td>\n",
       "    </tr>\n",
       "    <tr>\n",
       "      <th>14957</th>\n",
       "      <td>1490.0</td>\n",
       "      <td>0.00</td>\n",
       "      <td>0.00</td>\n",
       "      <td>80.00</td>\n",
       "      <td>0.00</td>\n",
       "      <td>2.200000</td>\n",
       "      <td>6.67</td>\n",
       "      <td>0.00000</td>\n",
       "    </tr>\n",
       "    <tr>\n",
       "      <th>239407</th>\n",
       "      <td>260.0</td>\n",
       "      <td>0.00</td>\n",
       "      <td>0.00</td>\n",
       "      <td>13.00</td>\n",
       "      <td>0.60</td>\n",
       "      <td>1.700000</td>\n",
       "      <td>1.20</td>\n",
       "      <td>0.50000</td>\n",
       "    </tr>\n",
       "    <tr>\n",
       "      <th>100310</th>\n",
       "      <td>176.0</td>\n",
       "      <td>1.25</td>\n",
       "      <td>0.00</td>\n",
       "      <td>6.67</td>\n",
       "      <td>2.50</td>\n",
       "      <td>1.700000</td>\n",
       "      <td>1.67</td>\n",
       "      <td>0.65532</td>\n",
       "    </tr>\n",
       "    <tr>\n",
       "      <th>100309</th>\n",
       "      <td>176.0</td>\n",
       "      <td>1.25</td>\n",
       "      <td>0.00</td>\n",
       "      <td>6.67</td>\n",
       "      <td>2.50</td>\n",
       "      <td>1.700000</td>\n",
       "      <td>1.67</td>\n",
       "      <td>0.65532</td>\n",
       "    </tr>\n",
       "    <tr>\n",
       "      <th>...</th>\n",
       "      <td>...</td>\n",
       "      <td>...</td>\n",
       "      <td>...</td>\n",
       "      <td>...</td>\n",
       "      <td>...</td>\n",
       "      <td>...</td>\n",
       "      <td>...</td>\n",
       "      <td>...</td>\n",
       "    </tr>\n",
       "    <tr>\n",
       "      <th>180669</th>\n",
       "      <td>2021.0</td>\n",
       "      <td>21.00</td>\n",
       "      <td>14.00</td>\n",
       "      <td>67.00</td>\n",
       "      <td>33.00</td>\n",
       "      <td>5.890818</td>\n",
       "      <td>5.20</td>\n",
       "      <td>0.34000</td>\n",
       "    </tr>\n",
       "    <tr>\n",
       "      <th>107861</th>\n",
       "      <td>2092.0</td>\n",
       "      <td>30.00</td>\n",
       "      <td>20.00</td>\n",
       "      <td>40.00</td>\n",
       "      <td>0.00</td>\n",
       "      <td>0.000000</td>\n",
       "      <td>20.00</td>\n",
       "      <td>4.31800</td>\n",
       "    </tr>\n",
       "    <tr>\n",
       "      <th>122264</th>\n",
       "      <td>1987.0</td>\n",
       "      <td>27.50</td>\n",
       "      <td>17.50</td>\n",
       "      <td>60.00</td>\n",
       "      <td>50.00</td>\n",
       "      <td>5.000000</td>\n",
       "      <td>5.00</td>\n",
       "      <td>0.15748</td>\n",
       "    </tr>\n",
       "    <tr>\n",
       "      <th>180645</th>\n",
       "      <td>1909.0</td>\n",
       "      <td>26.80</td>\n",
       "      <td>12.90</td>\n",
       "      <td>43.40</td>\n",
       "      <td>32.00</td>\n",
       "      <td>4.275955</td>\n",
       "      <td>9.30</td>\n",
       "      <td>0.38000</td>\n",
       "    </tr>\n",
       "    <tr>\n",
       "      <th>167660</th>\n",
       "      <td>2389.0</td>\n",
       "      <td>42.86</td>\n",
       "      <td>7.14</td>\n",
       "      <td>42.86</td>\n",
       "      <td>14.29</td>\n",
       "      <td>14.597889</td>\n",
       "      <td>14.29</td>\n",
       "      <td>1.45034</td>\n",
       "    </tr>\n",
       "  </tbody>\n",
       "</table>\n",
       "<p>320772 rows × 8 columns</p>\n",
       "</div>"
      ],
      "text/plain": [
       "        energy_100g  fat_100g  saturated-fat_100g  carbohydrates_100g  \\\n",
       "235646         64.0      0.00                0.00                1.90   \n",
       "14957        1490.0      0.00                0.00               80.00   \n",
       "239407        260.0      0.00                0.00               13.00   \n",
       "100310        176.0      1.25                0.00                6.67   \n",
       "100309        176.0      1.25                0.00                6.67   \n",
       "...             ...       ...                 ...                 ...   \n",
       "180669       2021.0     21.00               14.00               67.00   \n",
       "107861       2092.0     30.00               20.00               40.00   \n",
       "122264       1987.0     27.50               17.50               60.00   \n",
       "180645       1909.0     26.80               12.90               43.40   \n",
       "167660       2389.0     42.86                7.14               42.86   \n",
       "\n",
       "        sugars_100g  fiber_100g  proteins_100g  salt_100g  \n",
       "235646         1.70    1.400000           1.20    0.91400  \n",
       "14957          0.00    2.200000           6.67    0.00000  \n",
       "239407         0.60    1.700000           1.20    0.50000  \n",
       "100310         2.50    1.700000           1.67    0.65532  \n",
       "100309         2.50    1.700000           1.67    0.65532  \n",
       "...             ...         ...            ...        ...  \n",
       "180669        33.00    5.890818           5.20    0.34000  \n",
       "107861         0.00    0.000000          20.00    4.31800  \n",
       "122264        50.00    5.000000           5.00    0.15748  \n",
       "180645        32.00    4.275955           9.30    0.38000  \n",
       "167660        14.29   14.597889          14.29    1.45034  \n",
       "\n",
       "[320772 rows x 8 columns]"
      ]
     },
     "execution_count": 38,
     "metadata": {},
     "output_type": "execute_result"
    }
   ],
   "source": [
    "data_pca.drop(columns=['nutrition_grade_fr', 'nutrition-score-fr_100g', 'sodium_100g', 'groupe_nutriscore'],inplace=True)\n",
    "data_pca"
   ]
  },
  {
   "cell_type": "code",
   "execution_count": 39,
   "id": "ad1ad89e",
   "metadata": {},
   "outputs": [
    {
     "data": {
      "text/plain": [
       "Int64Index([235646,  14957, 239407, 100310, 100309, 253451, 143246, 188919,\n",
       "             15153, 100273,\n",
       "            ...\n",
       "             29959, 180658,  17724, 249932, 301109, 180669, 107861, 122264,\n",
       "            180645, 167660],\n",
       "           dtype='int64', length=320772)"
      ]
     },
     "execution_count": 39,
     "metadata": {},
     "output_type": "execute_result"
    }
   ],
   "source": [
    "names = data_pca.index\n",
    "names"
   ]
  },
  {
   "cell_type": "code",
   "execution_count": 40,
   "id": "42e05499",
   "metadata": {},
   "outputs": [
    {
     "data": {
      "text/plain": [
       "Index(['energy_100g', 'fat_100g', 'saturated-fat_100g', 'carbohydrates_100g',\n",
       "       'sugars_100g', 'fiber_100g', 'proteins_100g', 'salt_100g'],\n",
       "      dtype='object')"
      ]
     },
     "execution_count": 40,
     "metadata": {},
     "output_type": "execute_result"
    }
   ],
   "source": [
    "features = data_pca.columns\n",
    "features"
   ]
  },
  {
   "cell_type": "code",
   "execution_count": 41,
   "id": "2050583e",
   "metadata": {},
   "outputs": [
    {
     "data": {
      "text/plain": [
       "array([[6.40000000e+01, 0.00000000e+00, 0.00000000e+00, 1.90000000e+00,\n",
       "        1.70000000e+00, 1.40000000e+00, 1.20000000e+00, 9.14000000e-01],\n",
       "       [1.49000000e+03, 0.00000000e+00, 0.00000000e+00, 8.00000000e+01,\n",
       "        0.00000000e+00, 2.20000000e+00, 6.67000000e+00, 0.00000000e+00],\n",
       "       [2.60000000e+02, 0.00000000e+00, 0.00000000e+00, 1.30000000e+01,\n",
       "        6.00000000e-01, 1.70000000e+00, 1.20000000e+00, 5.00000000e-01],\n",
       "       [1.76000000e+02, 1.25000000e+00, 0.00000000e+00, 6.67000000e+00,\n",
       "        2.50000000e+00, 1.70000000e+00, 1.67000000e+00, 6.55320000e-01],\n",
       "       [1.76000000e+02, 1.25000000e+00, 0.00000000e+00, 6.67000000e+00,\n",
       "        2.50000000e+00, 1.70000000e+00, 1.67000000e+00, 6.55320000e-01],\n",
       "       [9.79000000e+02, 8.93787441e+00, 2.70000000e+00, 1.69379135e+01,\n",
       "        1.00000000e+00, 0.00000000e+00, 1.90000000e+01, 1.30000000e-01],\n",
       "       [2.80000000e+02, 2.10000000e-01, 0.00000000e+00, 1.04200000e+01,\n",
       "        7.08000000e+00, 0.00000000e+00, 5.42000000e+00, 4.82600000e-02],\n",
       "       [1.17300000e+03, 5.40000000e+00, 5.00000000e-01, 4.60000000e+01,\n",
       "        3.80000000e+00, 5.40000000e+00, 8.70000000e+00, 1.20000000e+00],\n",
       "       [3.10000000e+02, 0.00000000e+00, 0.00000000e+00, 1.75700000e+01,\n",
       "        6.80000000e-01, 1.40000000e+00, 2.03000000e+00, 0.00000000e+00],\n",
       "       [1.21000000e+02, 0.00000000e+00, 0.00000000e+00, 7.06000000e+00,\n",
       "        3.53000000e+00, 3.50000000e+00, 2.35000000e+00, 1.52400000e-02]])"
      ]
     },
     "execution_count": 41,
     "metadata": {},
     "output_type": "execute_result"
    }
   ],
   "source": [
    "X = data_pca.values\n",
    "X[:10]"
   ]
  },
  {
   "cell_type": "code",
   "execution_count": 42,
   "id": "3f8b845e",
   "metadata": {},
   "outputs": [
    {
     "data": {
      "text/plain": [
       "numpy.ndarray"
      ]
     },
     "execution_count": 42,
     "metadata": {},
     "output_type": "execute_result"
    }
   ],
   "source": [
    "type(X)"
   ]
  },
  {
   "cell_type": "code",
   "execution_count": 43,
   "id": "3cb1fe40",
   "metadata": {},
   "outputs": [
    {
     "data": {
      "text/plain": [
       "(320772, 8)"
      ]
     },
     "execution_count": 43,
     "metadata": {},
     "output_type": "execute_result"
    }
   ],
   "source": [
    "X.shape"
   ]
  },
  {
   "cell_type": "markdown",
   "id": "55651211",
   "metadata": {},
   "source": [
    "On a commencé par scaler les données et les instancier : "
   ]
  },
  {
   "cell_type": "code",
   "execution_count": 44,
   "id": "4903b499",
   "metadata": {},
   "outputs": [],
   "source": [
    "scaler = StandardScaler()"
   ]
  },
  {
   "cell_type": "markdown",
   "id": "75519ce6",
   "metadata": {},
   "source": [
    "On fit ensuite : "
   ]
  },
  {
   "cell_type": "code",
   "execution_count": 45,
   "id": "10e2187d",
   "metadata": {},
   "outputs": [
    {
     "data": {
      "text/plain": [
       "StandardScaler()"
      ]
     },
     "execution_count": 45,
     "metadata": {},
     "output_type": "execute_result"
    }
   ],
   "source": [
    "scaler.fit(X)"
   ]
  },
  {
   "cell_type": "markdown",
   "id": "d82d7455",
   "metadata": {},
   "source": [
    "Puis les transforme"
   ]
  },
  {
   "cell_type": "code",
   "execution_count": 46,
   "id": "06b81a84",
   "metadata": {},
   "outputs": [],
   "source": [
    "X_scaled = scaler.transform(X)"
   ]
  },
  {
   "cell_type": "code",
   "execution_count": 47,
   "id": "2a43a5c5",
   "metadata": {},
   "outputs": [
    {
     "data": {
      "text/plain": [
       "array([[-0.18545434, -0.67435144, -0.69901072, -0.86228504, -0.69425721,\n",
       "        -0.07922299, -0.77595925, -0.00973644],\n",
       "       [ 0.05967388, -0.67435144, -0.69901072,  1.37062277, -0.77976309,\n",
       "        -0.00426218, -0.05390567, -0.0177204 ],\n",
       "       [-0.1517621 , -0.67435144, -0.69901072, -0.54493194, -0.74958455,\n",
       "        -0.05111268, -0.77595925, -0.01335281],\n",
       "       [-0.16620163, -0.60878469, -0.69901072, -0.72590898, -0.65401915,\n",
       "        -0.05111268, -0.71391808, -0.01199606],\n",
       "       [-0.16620163, -0.60878469, -0.69901072, -0.72590898, -0.65401915,\n",
       "        -0.05111268, -0.71391808, -0.01199606],\n",
       "       [-0.0281666 , -0.2055295 , -0.30720947, -0.43234554, -0.72946552,\n",
       "        -0.21040439,  1.57368492, -0.01658482]])"
      ]
     },
     "execution_count": 47,
     "metadata": {},
     "output_type": "execute_result"
    }
   ],
   "source": [
    "X_scaled[:6]"
   ]
  },
  {
   "cell_type": "markdown",
   "id": "0a08871f",
   "metadata": {},
   "source": [
    "Rappelons qu'on peut faire les 2 opérations en une seule :"
   ]
  },
  {
   "cell_type": "code",
   "execution_count": 48,
   "id": "caa2fb6d",
   "metadata": {},
   "outputs": [],
   "source": [
    "X_scaled = scaler.fit_transform(X)"
   ]
  },
  {
   "cell_type": "markdown",
   "id": "960ab25b",
   "metadata": {},
   "source": [
    "On espère avoir une moyenne à 0 et un écart type à 1 :"
   ]
  },
  {
   "cell_type": "code",
   "execution_count": 49,
   "id": "5d44fdc7",
   "metadata": {},
   "outputs": [
    {
     "data": {
      "text/html": [
       "<div>\n",
       "<style scoped>\n",
       "    .dataframe tbody tr th:only-of-type {\n",
       "        vertical-align: middle;\n",
       "    }\n",
       "\n",
       "    .dataframe tbody tr th {\n",
       "        vertical-align: top;\n",
       "    }\n",
       "\n",
       "    .dataframe thead th {\n",
       "        text-align: right;\n",
       "    }\n",
       "</style>\n",
       "<table border=\"1\" class=\"dataframe\">\n",
       "  <thead>\n",
       "    <tr style=\"text-align: right;\">\n",
       "      <th></th>\n",
       "      <th>0</th>\n",
       "      <th>1</th>\n",
       "      <th>2</th>\n",
       "      <th>3</th>\n",
       "      <th>4</th>\n",
       "      <th>5</th>\n",
       "      <th>6</th>\n",
       "      <th>7</th>\n",
       "    </tr>\n",
       "  </thead>\n",
       "  <tbody>\n",
       "    <tr>\n",
       "      <th>mean</th>\n",
       "      <td>-0.0</td>\n",
       "      <td>-0.0</td>\n",
       "      <td>-0.0</td>\n",
       "      <td>-0.0</td>\n",
       "      <td>-0.0</td>\n",
       "      <td>0.0</td>\n",
       "      <td>0.0</td>\n",
       "      <td>-0.0</td>\n",
       "    </tr>\n",
       "    <tr>\n",
       "      <th>std</th>\n",
       "      <td>1.0</td>\n",
       "      <td>1.0</td>\n",
       "      <td>1.0</td>\n",
       "      <td>1.0</td>\n",
       "      <td>1.0</td>\n",
       "      <td>1.0</td>\n",
       "      <td>1.0</td>\n",
       "      <td>1.0</td>\n",
       "    </tr>\n",
       "  </tbody>\n",
       "</table>\n",
       "</div>"
      ],
      "text/plain": [
       "        0    1    2    3    4    5    6    7\n",
       "mean -0.0 -0.0 -0.0 -0.0 -0.0  0.0  0.0 -0.0\n",
       "std   1.0  1.0  1.0  1.0  1.0  1.0  1.0  1.0"
      ]
     },
     "execution_count": 49,
     "metadata": {},
     "output_type": "execute_result"
    }
   ],
   "source": [
    "idx = [\"mean\", \"std\"]\n",
    "\n",
    "pd.DataFrame(X_scaled).describe().round(2).loc[idx, :]"
   ]
  },
  {
   "cell_type": "markdown",
   "id": "dd3c3a89",
   "metadata": {},
   "source": [
    "##### PCA"
   ]
  },
  {
   "cell_type": "markdown",
   "id": "e483ce6f",
   "metadata": {},
   "source": [
    "Nous allons travailler sur les 9 premières composantes et laisser le nutriscore à côté : "
   ]
  },
  {
   "cell_type": "code",
   "execution_count": 50,
   "id": "3a2cdc0e",
   "metadata": {},
   "outputs": [],
   "source": [
    "n_components = 6"
   ]
  },
  {
   "cell_type": "markdown",
   "id": "2c343c4e",
   "metadata": {},
   "source": [
    "On instancie notre ACP : "
   ]
  },
  {
   "cell_type": "code",
   "execution_count": 51,
   "id": "832c33bb",
   "metadata": {},
   "outputs": [],
   "source": [
    "pca = PCA(n_components=n_components)"
   ]
  },
  {
   "cell_type": "markdown",
   "id": "ee250fec",
   "metadata": {},
   "source": [
    "On l'entraine sur les données scalées : "
   ]
  },
  {
   "cell_type": "code",
   "execution_count": 52,
   "id": "8faff4a8",
   "metadata": {},
   "outputs": [
    {
     "data": {
      "text/plain": [
       "PCA(n_components=6)"
      ]
     },
     "execution_count": 52,
     "metadata": {},
     "output_type": "execute_result"
    }
   ],
   "source": [
    "pca.fit(X_scaled)"
   ]
  },
  {
   "cell_type": "markdown",
   "id": "914f01f9",
   "metadata": {},
   "source": [
    "#### Explained variance & scree plot "
   ]
  },
  {
   "cell_type": "markdown",
   "id": "553772ae",
   "metadata": {},
   "source": [
    "Nous allons nous intéresser à la variance captée par chaque composante. Grace à scikit-learn on peut utiliser l'attribut explained_variance_ratio_ :"
   ]
  },
  {
   "cell_type": "code",
   "execution_count": 53,
   "id": "ecfd68a1",
   "metadata": {},
   "outputs": [
    {
     "data": {
      "text/plain": [
       "array([0.32402302, 0.19655489, 0.12500634, 0.12164729, 0.11880161,\n",
       "       0.0796079 ])"
      ]
     },
     "execution_count": 53,
     "metadata": {},
     "output_type": "execute_result"
    }
   ],
   "source": [
    "pca.explained_variance_ratio_"
   ]
  },
  {
   "cell_type": "markdown",
   "id": "ad9c8b5e",
   "metadata": {},
   "source": [
    "Ici la 1ère composante capte 26% de la variance de nos données initiales, la 2ème 20% etc etc.\n",
    "\n",
    "Enregistrons cela dans une variable :"
   ]
  },
  {
   "cell_type": "code",
   "execution_count": 54,
   "id": "f4d755e3",
   "metadata": {},
   "outputs": [
    {
     "data": {
      "text/plain": [
       "array([32.4 , 19.66, 12.5 , 12.16, 11.88,  7.96])"
      ]
     },
     "execution_count": 54,
     "metadata": {},
     "output_type": "execute_result"
    }
   ],
   "source": [
    "scree = (pca.explained_variance_ratio_*100).round(2)\n",
    "scree"
   ]
  },
  {
   "cell_type": "markdown",
   "id": "829835c8",
   "metadata": {},
   "source": [
    "Les 2 premières composantes captent donc 44+20 = 66% de la variance, les 3 premières 44+20+13 = 77% de la variance etc etc.\n",
    "\n",
    "Cela s'appelle une somme cumulée. Et pour faire une somme cumulée numpy dispose de la fonction cumsum :"
   ]
  },
  {
   "cell_type": "code",
   "execution_count": 55,
   "id": "58d21f63",
   "metadata": {},
   "outputs": [
    {
     "data": {
      "text/plain": [
       "array([32., 52., 65., 77., 89., 97.])"
      ]
     },
     "execution_count": 55,
     "metadata": {},
     "output_type": "execute_result"
    }
   ],
   "source": [
    "scree_cum = scree.cumsum().round()\n",
    "scree_cum"
   ]
  },
  {
   "cell_type": "markdown",
   "id": "511d81c7",
   "metadata": {},
   "source": [
    "Définisons ensuite une variable avec la liste de nos composantes :"
   ]
  },
  {
   "cell_type": "code",
   "execution_count": 56,
   "id": "9b3041ed",
   "metadata": {},
   "outputs": [
    {
     "data": {
      "text/plain": [
       "[1, 2, 3, 4, 5, 6]"
      ]
     },
     "execution_count": 56,
     "metadata": {},
     "output_type": "execute_result"
    }
   ],
   "source": [
    "x_list = range(1, n_components+1)\n",
    "x_list = [*x_list]\n",
    "x_list"
   ]
  },
  {
   "cell_type": "markdown",
   "id": "28f7ca65",
   "metadata": {},
   "source": [
    "On peut enfin l'afficher de façon graphique :"
   ]
  },
  {
   "cell_type": "code",
   "execution_count": 57,
   "id": "f98563f9",
   "metadata": {},
   "outputs": [
    {
     "data": {
      "image/png": "[encoded data removed]",
      "text/plain": [
       "<Figure size 432x288 with 1 Axes>"
      ]
     },
     "metadata": {
      "needs_background": "light"
     },
     "output_type": "display_data"
    }
   ],
   "source": [
    "plt.bar(x_list, scree)\n",
    "plt.plot(x_list, scree_cum,c=\"red\",marker='o')\n",
    "plt.xlabel(\"rang de l'axe d'inertie\")\n",
    "plt.ylabel(\"pourcentage d'inertie\")\n",
    "plt.title(\"Eboulis des valeurs propres\")\n",
    "plt.show(block=False)"
   ]
  },
  {
   "cell_type": "markdown",
   "id": "190dbdb1",
   "metadata": {},
   "source": [
    "On a en bleu la variance de chaque nouvelle composante, et en rouge la variance cumulée.\n",
    "\n",
    "On voit ici que près de 80% de la variance est comprise dans les 4 premières composantes, et près de 90% dans les 5 premières."
   ]
  },
  {
   "cell_type": "markdown",
   "id": "60c48fa5",
   "metadata": {},
   "source": [
    "### Components "
   ]
  },
  {
   "cell_type": "markdown",
   "id": "7f79d487",
   "metadata": {},
   "source": [
    "Nous allons nous intéresser maintenant à nos composantes. Nous avons dit dans le cours que c'est bien par un calcul que l'on obtient ces composantes.\n",
    "\n",
    "La formule de ce calcul nous est donnée par l'attribut components_. Cette variable est généralement nommée pcs :"
   ]
  },
  {
   "cell_type": "code",
   "execution_count": 58,
   "id": "18783712",
   "metadata": {},
   "outputs": [
    {
     "data": {
      "text/plain": [
       "array([[ 0.1250509 ,  0.48229155,  0.31429057,  0.49219713,  0.35226027,\n",
       "         0.51967328,  0.12865653, -0.00452009],\n",
       "       [-0.0591436 , -0.38656665, -0.44758547,  0.39999785,  0.50077208,\n",
       "         0.04516605, -0.48362882,  0.00526597],\n",
       "       [ 0.02659331,  0.00802261,  0.02366585, -0.00499742,  0.01015319,\n",
       "        -0.01766644, -0.01595935,  0.99898623],\n",
       "       [ 0.98384088, -0.06224876, -0.00208354, -0.04944644,  0.02015483,\n",
       "        -0.11999926, -0.1001893 , -0.02981576],\n",
       "       [ 0.10793511, -0.16989876, -0.60764752,  0.18792592, -0.2667974 ,\n",
       "         0.35439499,  0.59758635,  0.03235195],\n",
       "       [ 0.01642687,  0.32119866, -0.23820291, -0.09707322, -0.51595547,\n",
       "         0.4352848 , -0.61211659,  0.00530338]])"
      ]
     },
     "execution_count": 58,
     "metadata": {},
     "output_type": "execute_result"
    }
   ],
   "source": [
    "pcs = pca.components_\n",
    "pcs"
   ]
  },
  {
   "cell_type": "markdown",
   "id": "bb4d7b1a",
   "metadata": {},
   "source": [
    "Affichons la même chose mais version pandas :"
   ]
  },
  {
   "cell_type": "code",
   "execution_count": 59,
   "id": "1c6df07c",
   "metadata": {},
   "outputs": [
    {
     "data": {
      "text/html": [
       "<div>\n",
       "<style scoped>\n",
       "    .dataframe tbody tr th:only-of-type {\n",
       "        vertical-align: middle;\n",
       "    }\n",
       "\n",
       "    .dataframe tbody tr th {\n",
       "        vertical-align: top;\n",
       "    }\n",
       "\n",
       "    .dataframe thead th {\n",
       "        text-align: right;\n",
       "    }\n",
       "</style>\n",
       "<table border=\"1\" class=\"dataframe\">\n",
       "  <thead>\n",
       "    <tr style=\"text-align: right;\">\n",
       "      <th></th>\n",
       "      <th>0</th>\n",
       "      <th>1</th>\n",
       "      <th>2</th>\n",
       "      <th>3</th>\n",
       "      <th>4</th>\n",
       "      <th>5</th>\n",
       "      <th>6</th>\n",
       "      <th>7</th>\n",
       "    </tr>\n",
       "  </thead>\n",
       "  <tbody>\n",
       "    <tr>\n",
       "      <th>0</th>\n",
       "      <td>0.125051</td>\n",
       "      <td>0.482292</td>\n",
       "      <td>0.314291</td>\n",
       "      <td>0.492197</td>\n",
       "      <td>0.352260</td>\n",
       "      <td>0.519673</td>\n",
       "      <td>0.128657</td>\n",
       "      <td>-0.004520</td>\n",
       "    </tr>\n",
       "    <tr>\n",
       "      <th>1</th>\n",
       "      <td>-0.059144</td>\n",
       "      <td>-0.386567</td>\n",
       "      <td>-0.447585</td>\n",
       "      <td>0.399998</td>\n",
       "      <td>0.500772</td>\n",
       "      <td>0.045166</td>\n",
       "      <td>-0.483629</td>\n",
       "      <td>0.005266</td>\n",
       "    </tr>\n",
       "    <tr>\n",
       "      <th>2</th>\n",
       "      <td>0.026593</td>\n",
       "      <td>0.008023</td>\n",
       "      <td>0.023666</td>\n",
       "      <td>-0.004997</td>\n",
       "      <td>0.010153</td>\n",
       "      <td>-0.017666</td>\n",
       "      <td>-0.015959</td>\n",
       "      <td>0.998986</td>\n",
       "    </tr>\n",
       "    <tr>\n",
       "      <th>3</th>\n",
       "      <td>0.983841</td>\n",
       "      <td>-0.062249</td>\n",
       "      <td>-0.002084</td>\n",
       "      <td>-0.049446</td>\n",
       "      <td>0.020155</td>\n",
       "      <td>-0.119999</td>\n",
       "      <td>-0.100189</td>\n",
       "      <td>-0.029816</td>\n",
       "    </tr>\n",
       "    <tr>\n",
       "      <th>4</th>\n",
       "      <td>0.107935</td>\n",
       "      <td>-0.169899</td>\n",
       "      <td>-0.607648</td>\n",
       "      <td>0.187926</td>\n",
       "      <td>-0.266797</td>\n",
       "      <td>0.354395</td>\n",
       "      <td>0.597586</td>\n",
       "      <td>0.032352</td>\n",
       "    </tr>\n",
       "    <tr>\n",
       "      <th>5</th>\n",
       "      <td>0.016427</td>\n",
       "      <td>0.321199</td>\n",
       "      <td>-0.238203</td>\n",
       "      <td>-0.097073</td>\n",
       "      <td>-0.515955</td>\n",
       "      <td>0.435285</td>\n",
       "      <td>-0.612117</td>\n",
       "      <td>0.005303</td>\n",
       "    </tr>\n",
       "  </tbody>\n",
       "</table>\n",
       "</div>"
      ],
      "text/plain": [
       "          0         1         2         3         4         5         6  \\\n",
       "0  0.125051  0.482292  0.314291  0.492197  0.352260  0.519673  0.128657   \n",
       "1 -0.059144 -0.386567 -0.447585  0.399998  0.500772  0.045166 -0.483629   \n",
       "2  0.026593  0.008023  0.023666 -0.004997  0.010153 -0.017666 -0.015959   \n",
       "3  0.983841 -0.062249 -0.002084 -0.049446  0.020155 -0.119999 -0.100189   \n",
       "4  0.107935 -0.169899 -0.607648  0.187926 -0.266797  0.354395  0.597586   \n",
       "5  0.016427  0.321199 -0.238203 -0.097073 -0.515955  0.435285 -0.612117   \n",
       "\n",
       "          7  \n",
       "0 -0.004520  \n",
       "1  0.005266  \n",
       "2  0.998986  \n",
       "3 -0.029816  \n",
       "4  0.032352  \n",
       "5  0.005303  "
      ]
     },
     "execution_count": 59,
     "metadata": {},
     "output_type": "execute_result"
    }
   ],
   "source": [
    "pcs = pd.DataFrame(pcs)\n",
    "pcs"
   ]
  },
  {
   "cell_type": "markdown",
   "id": "d7740e27",
   "metadata": {},
   "source": [
    "Nous allons continuer le travail : "
   ]
  },
  {
   "cell_type": "code",
   "execution_count": 60,
   "id": "6bea5f7d",
   "metadata": {},
   "outputs": [
    {
     "data": {
      "text/html": [
       "<div>\n",
       "<style scoped>\n",
       "    .dataframe tbody tr th:only-of-type {\n",
       "        vertical-align: middle;\n",
       "    }\n",
       "\n",
       "    .dataframe tbody tr th {\n",
       "        vertical-align: top;\n",
       "    }\n",
       "\n",
       "    .dataframe thead th {\n",
       "        text-align: right;\n",
       "    }\n",
       "</style>\n",
       "<table border=\"1\" class=\"dataframe\">\n",
       "  <thead>\n",
       "    <tr style=\"text-align: right;\">\n",
       "      <th></th>\n",
       "      <th>energy_100g</th>\n",
       "      <th>fat_100g</th>\n",
       "      <th>saturated-fat_100g</th>\n",
       "      <th>carbohydrates_100g</th>\n",
       "      <th>sugars_100g</th>\n",
       "      <th>fiber_100g</th>\n",
       "      <th>proteins_100g</th>\n",
       "      <th>salt_100g</th>\n",
       "    </tr>\n",
       "  </thead>\n",
       "  <tbody>\n",
       "    <tr>\n",
       "      <th>F1</th>\n",
       "      <td>0.13</td>\n",
       "      <td>0.48</td>\n",
       "      <td>0.31</td>\n",
       "      <td>0.49</td>\n",
       "      <td>0.35</td>\n",
       "      <td>0.52</td>\n",
       "      <td>0.13</td>\n",
       "      <td>-0.00</td>\n",
       "    </tr>\n",
       "    <tr>\n",
       "      <th>F2</th>\n",
       "      <td>-0.06</td>\n",
       "      <td>-0.39</td>\n",
       "      <td>-0.45</td>\n",
       "      <td>0.40</td>\n",
       "      <td>0.50</td>\n",
       "      <td>0.05</td>\n",
       "      <td>-0.48</td>\n",
       "      <td>0.01</td>\n",
       "    </tr>\n",
       "    <tr>\n",
       "      <th>F3</th>\n",
       "      <td>0.03</td>\n",
       "      <td>0.01</td>\n",
       "      <td>0.02</td>\n",
       "      <td>-0.00</td>\n",
       "      <td>0.01</td>\n",
       "      <td>-0.02</td>\n",
       "      <td>-0.02</td>\n",
       "      <td>1.00</td>\n",
       "    </tr>\n",
       "    <tr>\n",
       "      <th>F4</th>\n",
       "      <td>0.98</td>\n",
       "      <td>-0.06</td>\n",
       "      <td>-0.00</td>\n",
       "      <td>-0.05</td>\n",
       "      <td>0.02</td>\n",
       "      <td>-0.12</td>\n",
       "      <td>-0.10</td>\n",
       "      <td>-0.03</td>\n",
       "    </tr>\n",
       "    <tr>\n",
       "      <th>F5</th>\n",
       "      <td>0.11</td>\n",
       "      <td>-0.17</td>\n",
       "      <td>-0.61</td>\n",
       "      <td>0.19</td>\n",
       "      <td>-0.27</td>\n",
       "      <td>0.35</td>\n",
       "      <td>0.60</td>\n",
       "      <td>0.03</td>\n",
       "    </tr>\n",
       "    <tr>\n",
       "      <th>F6</th>\n",
       "      <td>0.02</td>\n",
       "      <td>0.32</td>\n",
       "      <td>-0.24</td>\n",
       "      <td>-0.10</td>\n",
       "      <td>-0.52</td>\n",
       "      <td>0.44</td>\n",
       "      <td>-0.61</td>\n",
       "      <td>0.01</td>\n",
       "    </tr>\n",
       "  </tbody>\n",
       "</table>\n",
       "</div>"
      ],
      "text/plain": [
       "    energy_100g  fat_100g  saturated-fat_100g  carbohydrates_100g  \\\n",
       "F1         0.13      0.48                0.31                0.49   \n",
       "F2        -0.06     -0.39               -0.45                0.40   \n",
       "F3         0.03      0.01                0.02               -0.00   \n",
       "F4         0.98     -0.06               -0.00               -0.05   \n",
       "F5         0.11     -0.17               -0.61                0.19   \n",
       "F6         0.02      0.32               -0.24               -0.10   \n",
       "\n",
       "    sugars_100g  fiber_100g  proteins_100g  salt_100g  \n",
       "F1         0.35        0.52           0.13      -0.00  \n",
       "F2         0.50        0.05          -0.48       0.01  \n",
       "F3         0.01       -0.02          -0.02       1.00  \n",
       "F4         0.02       -0.12          -0.10      -0.03  \n",
       "F5        -0.27        0.35           0.60       0.03  \n",
       "F6        -0.52        0.44          -0.61       0.01  "
      ]
     },
     "execution_count": 60,
     "metadata": {},
     "output_type": "execute_result"
    }
   ],
   "source": [
    "pcs.columns = features\n",
    "pcs.index = [f\"F{i}\" for i in x_list]\n",
    "pcs.round(2)"
   ]
  },
  {
   "cell_type": "markdown",
   "id": "fd278295",
   "metadata": {},
   "source": [
    "Nous allons arrondir les résultats pour simplifier l'analyse"
   ]
  },
  {
   "cell_type": "markdown",
   "id": "00ffe68c",
   "metadata": {},
   "source": [
    "Alors, comment calcule t-on la première composante F1 ?\n",
    "\n",
    "et bien c'est assez simple :\n",
    "\n",
    "F1 = (0.23 * inscription) + (-0.45 * progression) + ... + (0.45 * nbEvaluations)\n",
    "\n",
    "et F2 ?\n",
    "\n",
    "F2 = (0.14 * inscription) + (-0.10 * progression) + ... + (0.21 * nbEvaluations)"
   ]
  },
  {
   "cell_type": "markdown",
   "id": "8563c5aa",
   "metadata": {},
   "source": [
    "Dans certains cas, on voudra afficher ce dataframe comme cela :"
   ]
  },
  {
   "cell_type": "code",
   "execution_count": 61,
   "id": "44b229d6",
   "metadata": {},
   "outputs": [
    {
     "data": {
      "text/html": [
       "<div>\n",
       "<style scoped>\n",
       "    .dataframe tbody tr th:only-of-type {\n",
       "        vertical-align: middle;\n",
       "    }\n",
       "\n",
       "    .dataframe tbody tr th {\n",
       "        vertical-align: top;\n",
       "    }\n",
       "\n",
       "    .dataframe thead th {\n",
       "        text-align: right;\n",
       "    }\n",
       "</style>\n",
       "<table border=\"1\" class=\"dataframe\">\n",
       "  <thead>\n",
       "    <tr style=\"text-align: right;\">\n",
       "      <th></th>\n",
       "      <th>F1</th>\n",
       "      <th>F2</th>\n",
       "      <th>F3</th>\n",
       "      <th>F4</th>\n",
       "      <th>F5</th>\n",
       "      <th>F6</th>\n",
       "    </tr>\n",
       "  </thead>\n",
       "  <tbody>\n",
       "    <tr>\n",
       "      <th>energy_100g</th>\n",
       "      <td>0.125051</td>\n",
       "      <td>-0.059144</td>\n",
       "      <td>0.026593</td>\n",
       "      <td>0.983841</td>\n",
       "      <td>0.107935</td>\n",
       "      <td>0.016427</td>\n",
       "    </tr>\n",
       "    <tr>\n",
       "      <th>fat_100g</th>\n",
       "      <td>0.482292</td>\n",
       "      <td>-0.386567</td>\n",
       "      <td>0.008023</td>\n",
       "      <td>-0.062249</td>\n",
       "      <td>-0.169899</td>\n",
       "      <td>0.321199</td>\n",
       "    </tr>\n",
       "    <tr>\n",
       "      <th>saturated-fat_100g</th>\n",
       "      <td>0.314291</td>\n",
       "      <td>-0.447585</td>\n",
       "      <td>0.023666</td>\n",
       "      <td>-0.002084</td>\n",
       "      <td>-0.607648</td>\n",
       "      <td>-0.238203</td>\n",
       "    </tr>\n",
       "    <tr>\n",
       "      <th>carbohydrates_100g</th>\n",
       "      <td>0.492197</td>\n",
       "      <td>0.399998</td>\n",
       "      <td>-0.004997</td>\n",
       "      <td>-0.049446</td>\n",
       "      <td>0.187926</td>\n",
       "      <td>-0.097073</td>\n",
       "    </tr>\n",
       "    <tr>\n",
       "      <th>sugars_100g</th>\n",
       "      <td>0.352260</td>\n",
       "      <td>0.500772</td>\n",
       "      <td>0.010153</td>\n",
       "      <td>0.020155</td>\n",
       "      <td>-0.266797</td>\n",
       "      <td>-0.515955</td>\n",
       "    </tr>\n",
       "    <tr>\n",
       "      <th>fiber_100g</th>\n",
       "      <td>0.519673</td>\n",
       "      <td>0.045166</td>\n",
       "      <td>-0.017666</td>\n",
       "      <td>-0.119999</td>\n",
       "      <td>0.354395</td>\n",
       "      <td>0.435285</td>\n",
       "    </tr>\n",
       "    <tr>\n",
       "      <th>proteins_100g</th>\n",
       "      <td>0.128657</td>\n",
       "      <td>-0.483629</td>\n",
       "      <td>-0.015959</td>\n",
       "      <td>-0.100189</td>\n",
       "      <td>0.597586</td>\n",
       "      <td>-0.612117</td>\n",
       "    </tr>\n",
       "    <tr>\n",
       "      <th>salt_100g</th>\n",
       "      <td>-0.004520</td>\n",
       "      <td>0.005266</td>\n",
       "      <td>0.998986</td>\n",
       "      <td>-0.029816</td>\n",
       "      <td>0.032352</td>\n",
       "      <td>0.005303</td>\n",
       "    </tr>\n",
       "  </tbody>\n",
       "</table>\n",
       "</div>"
      ],
      "text/plain": [
       "                          F1        F2        F3        F4        F5        F6\n",
       "energy_100g         0.125051 -0.059144  0.026593  0.983841  0.107935  0.016427\n",
       "fat_100g            0.482292 -0.386567  0.008023 -0.062249 -0.169899  0.321199\n",
       "saturated-fat_100g  0.314291 -0.447585  0.023666 -0.002084 -0.607648 -0.238203\n",
       "carbohydrates_100g  0.492197  0.399998 -0.004997 -0.049446  0.187926 -0.097073\n",
       "sugars_100g         0.352260  0.500772  0.010153  0.020155 -0.266797 -0.515955\n",
       "fiber_100g          0.519673  0.045166 -0.017666 -0.119999  0.354395  0.435285\n",
       "proteins_100g       0.128657 -0.483629 -0.015959 -0.100189  0.597586 -0.612117\n",
       "salt_100g          -0.004520  0.005266  0.998986 -0.029816  0.032352  0.005303"
      ]
     },
     "execution_count": 61,
     "metadata": {},
     "output_type": "execute_result"
    }
   ],
   "source": [
    "pcs.T"
   ]
  },
  {
   "cell_type": "markdown",
   "id": "0d4d6414",
   "metadata": {},
   "source": [
    "Et pour une représentation plus visuelle, comme cela :"
   ]
  },
  {
   "cell_type": "code",
   "execution_count": 62,
   "id": "0ff42c15",
   "metadata": {},
   "outputs": [
    {
     "data": {
      "text/plain": [
       "<AxesSubplot:>"
      ]
     },
     "execution_count": 62,
     "metadata": {},
     "output_type": "execute_result"
    },
    {
     "data": {
      "image/png": "[encoded data removed]",
      "text/plain": [
       "<Figure size 1440x432 with 2 Axes>"
      ]
     },
     "metadata": {
      "needs_background": "light"
     },
     "output_type": "display_data"
    }
   ],
   "source": [
    "fig, ax = plt.subplots(figsize=(20, 6))\n",
    "sns.heatmap(pcs.T, vmin=-1, vmax=1, annot=True, cmap=\"coolwarm\", fmt=\"0.2f\")"
   ]
  },
  {
   "cell_type": "markdown",
   "id": "9dff472d",
   "metadata": {},
   "source": []
  },
  {
   "cell_type": "markdown",
   "id": "7437ee39",
   "metadata": {},
   "source": [
    "#### Correlation graph "
   ]
  },
  {
   "cell_type": "markdown",
   "id": "b0cdd315",
   "metadata": {},
   "source": [
    "Définissons nos axes x et y. Nous allons utiliser les 2 premières composantes. Ensuite les deux suivantes et deux d'après, comme - en code - on commence à compter à partir de 0, cela nous donne :"
   ]
  },
  {
   "cell_type": "code",
   "execution_count": 63,
   "id": "4debf9cd",
   "metadata": {},
   "outputs": [],
   "source": [
    "x, y = 0,1"
   ]
  },
  {
   "cell_type": "markdown",
   "id": "31a12c1c",
   "metadata": {},
   "source": [
    "Pour la partie graphique :"
   ]
  },
  {
   "cell_type": "markdown",
   "id": "5035570f",
   "metadata": {},
   "source": [
    "On peut en faire une fonction :"
   ]
  },
  {
   "cell_type": "code",
   "execution_count": 64,
   "id": "5abb6831",
   "metadata": {},
   "outputs": [],
   "source": [
    "def correlation_graph(pca, \n",
    "                      x_y, \n",
    "                      features) : \n",
    "    \"\"\"Affiche le graphe des correlations\n",
    "\n",
    "    Positional arguments : \n",
    "    -----------------------------------\n",
    "    pca : sklearn.decomposition.PCA : notre objet PCA qui a été fit\n",
    "    x_y : list ou tuple : le couple x,y des plans à afficher, exemple [0,1] pour F1, F2\n",
    "    features : list ou tuple : la liste des features (ie des dimensions) à représenter\n",
    "    \"\"\"\n",
    "\n",
    "    # Extrait x et y \n",
    "    x,y=x_y\n",
    "\n",
    "    # Taille de l'image (en inches)\n",
    "    fig, ax = plt.subplots(figsize=(10, 9))\n",
    "\n",
    "    # Pour chaque composante : \n",
    "    for i in range(0, pca.components_.shape[1]):\n",
    "\n",
    "        # Les flèches\n",
    "        ax.arrow(0,0, \n",
    "                pca.components_[x, i],  \n",
    "                pca.components_[y, i],  \n",
    "                head_width=0.07,\n",
    "                head_length=0.07, \n",
    "                width=0.02, )\n",
    "\n",
    "        # Les labels\n",
    "        plt.text(pca.components_[x, i] + 0.05,\n",
    "                pca.components_[y, i] + 0.05,\n",
    "                features[i])\n",
    "        \n",
    "    # Affichage des lignes horizontales et verticales\n",
    "    plt.plot([-1, 1], [0, 0], color='grey', ls='--')\n",
    "    plt.plot([0, 0], [-1, 1], color='grey', ls='--')\n",
    "\n",
    "    # Nom des axes, avec le pourcentage d'inertie expliqué\n",
    "    plt.xlabel('F{} ({}%)'.format(x+1, round(100*pca.explained_variance_ratio_[x],1)))\n",
    "    plt.ylabel('F{} ({}%)'.format(y+1, round(100*pca.explained_variance_ratio_[y],1)))\n",
    "\n",
    "    # J'ai copié collé le code sans le lire\n",
    "    plt.title(\"Cercle des corrélations (F{} et F{})\".format(x+1, y+1))\n",
    "\n",
    "    # Le cercle \n",
    "    an = np.linspace(0, 2 * np.pi, 100)\n",
    "    plt.plot(np.cos(an), np.sin(an))  # Add a unit circle for scale\n",
    "\n",
    "    # Axes et display\n",
    "    plt.axis('equal')\n",
    "    plt.show(block=False)"
   ]
  },
  {
   "cell_type": "markdown",
   "id": "9fda579b",
   "metadata": {},
   "source": [
    "Essayons cette fonction pour F1 et F2\n",
    "\n",
    "-- ATTENTION -- Encore une fois Pour F1 et F2 il faut bien préciser 0 et 1 😀"
   ]
  },
  {
   "cell_type": "code",
   "execution_count": 65,
   "id": "64c41b0e",
   "metadata": {},
   "outputs": [
    {
     "data": {
      "text/plain": [
       "(0, 1)"
      ]
     },
     "execution_count": 65,
     "metadata": {},
     "output_type": "execute_result"
    }
   ],
   "source": [
    "x_y = (0,1)\n",
    "x_y"
   ]
  },
  {
   "cell_type": "code",
   "execution_count": 66,
   "id": "c334a140",
   "metadata": {
    "scrolled": false
   },
   "outputs": [
    {
     "data": {
      "image/png": "[encoded data removed]",
      "text/plain": [
       "<Figure size 720x648 with 1 Axes>"
      ]
     },
     "metadata": {
      "needs_background": "light"
     },
     "output_type": "display_data"
    }
   ],
   "source": [
    "correlation_graph(pca, x_y, features)"
   ]
  },
  {
   "cell_type": "markdown",
   "id": "47231d90",
   "metadata": {},
   "source": [
    "Relation entre le sucre et le carbohydrates et une correlation entre le fact et satured-fat, le protéines est positivement corrélées à protéines fats. Les aliments ont plus de gras et moins de sucre. "
   ]
  },
  {
   "cell_type": "markdown",
   "id": "4b9cc8e8",
   "metadata": {},
   "source": [
    "Essayons pour F3 et F4 :"
   ]
  },
  {
   "cell_type": "code",
   "execution_count": 67,
   "id": "c49d34b5",
   "metadata": {},
   "outputs": [
    {
     "data": {
      "image/png": "[encoded data removed]",
      "text/plain": [
       "<Figure size 720x648 with 1 Axes>"
      ]
     },
     "metadata": {
      "needs_background": "light"
     },
     "output_type": "display_data"
    }
   ],
   "source": [
    "correlation_graph(pca, (2,3), features)"
   ]
  },
  {
   "cell_type": "markdown",
   "id": "8a58264d",
   "metadata": {},
   "source": [
    "Nous pouvons voir ici que les varibles : énergie et sel ne sont pas très correlées"
   ]
  },
  {
   "cell_type": "markdown",
   "id": "e02fc19f",
   "metadata": {},
   "source": [
    "##### Projection"
   ]
  },
  {
   "cell_type": "markdown",
   "id": "85f95bec",
   "metadata": {},
   "source": [
    "Nous allons travailler maintenant sur la projection de nos dimensions. Tout d'abord calculons les coordonnées de nos individus dans le nouvel espace :"
   ]
  },
  {
   "cell_type": "code",
   "execution_count": 68,
   "id": "cd39c471",
   "metadata": {},
   "outputs": [
    {
     "data": {
      "text/plain": [
       "array([[-1.37804946,  0.26358727, -0.02556749, -0.02283951,  0.050393  ,\n",
       "         0.82921109],\n",
       "       [-0.14659733,  0.75356659, -0.0518993 ,  0.02509572,  0.97708175,\n",
       "         0.25120545],\n",
       "       [-1.22250103,  0.36207935, -0.0309285 , -0.00976419,  0.13827479,\n",
       "         0.83972131],\n",
       "       [-1.24012103,  0.28305574, -0.02854653, -0.02343338,  0.10318852,\n",
       "         0.79083537],\n",
       "       [-1.24012103,  0.28305574, -0.02854653, -0.02343338,  0.10318852,\n",
       "         0.79083537],\n",
       "       [-0.57576312, -1.09028389, -0.05287998, -0.13952524,  1.1972345 ,\n",
       "        -0.62991184],\n",
       "       [-1.14934661,  0.21470756, -0.03708894, -0.03342904,  0.31226149,\n",
       "         0.27197378],\n",
       "       [-0.21487466,  0.2057085 , -0.04166262, -0.0575218 ,  0.91205173,\n",
       "         0.28630049],\n",
       "       [-1.15619187,  0.36156893, -0.03692712, -0.0151611 ,  0.21805231,\n",
       "         0.7457791 ]])"
      ]
     },
     "execution_count": 68,
     "metadata": {},
     "output_type": "execute_result"
    }
   ],
   "source": [
    "X_proj = pca.transform(X_scaled)\n",
    "X_proj[:9]"
   ]
  },
  {
   "cell_type": "markdown",
   "id": "9feab769",
   "metadata": {},
   "source": [
    "Rappelons aussi que :"
   ]
  },
  {
   "cell_type": "code",
   "execution_count": 69,
   "id": "c40aa19e",
   "metadata": {},
   "outputs": [
    {
     "data": {
      "text/plain": [
       "(0, 1)"
      ]
     },
     "execution_count": 69,
     "metadata": {},
     "output_type": "execute_result"
    }
   ],
   "source": [
    "x_y"
   ]
  },
  {
   "cell_type": "code",
   "execution_count": 70,
   "id": "5973bd65",
   "metadata": {},
   "outputs": [],
   "source": [
    "def display_factorial_planes(   X_projected, \n",
    "                                x_y, \n",
    "                                pca=None, \n",
    "                                labels = None,\n",
    "                                clusters=None, \n",
    "                                alpha=1,\n",
    "                                figsize=[10,8], \n",
    "                                marker=\".\" ):\n",
    "    \"\"\"\n",
    "    Affiche la projection des individus\n",
    "\n",
    "    Positional arguments : \n",
    "    -------------------------------------\n",
    "    X_projected : np.array, pd.DataFrame, list of list : la matrice des points projetés\n",
    "    x_y : list ou tuple : le couple x,y des plans à afficher, exemple [0,1] pour F1, F2\n",
    "\n",
    "    Optional arguments : \n",
    "    -------------------------------------\n",
    "    pca : sklearn.decomposition.PCA : un objet PCA qui a été fit, cela nous permettra d'afficher la variance de chaque composante, default = None\n",
    "    labels : list ou tuple : les labels des individus à projeter, default = None\n",
    "    clusters : list ou tuple : la liste des clusters auquel appartient chaque individu, default = None\n",
    "    alpha : float in [0,1] : paramètre de transparence, 0=100% transparent, 1=0% transparent, default = 1\n",
    "    figsize : list ou tuple : couple width, height qui définit la taille de la figure en inches, default = [10,8] \n",
    "    marker : str : le type de marker utilisé pour représenter les individus, points croix etc etc, default = \".\"\n",
    "    \"\"\"\n",
    "\n",
    "    # Transforme X_projected en np.array\n",
    "    X_ = np.array(X_projected)\n",
    "\n",
    "    # On définit la forme de la figure si elle n'a pas été donnée\n",
    "    if not figsize: \n",
    "        figsize = (7,6)\n",
    "\n",
    "    # On gère les labels\n",
    "    if  labels is None : \n",
    "        labels = []\n",
    "    try : \n",
    "        len(labels)\n",
    "    except Exception as e : \n",
    "        raise e\n",
    "\n",
    "    # On vérifie la variable axis \n",
    "    if not len(x_y) ==2 : \n",
    "        raise AttributeError(\"2 axes sont demandées\")   \n",
    "    if max(x_y )>= X_.shape[1] : \n",
    "        raise AttributeError(\"la variable axis n'est pas bonne\")   \n",
    "\n",
    "    # on définit x et y \n",
    "    x, y = x_y\n",
    "\n",
    "    # Initialisation de la figure       \n",
    "    fig, ax = plt.subplots(1, 1, figsize=figsize)\n",
    "\n",
    "    # On vérifie s'il y a des clusters ou non\n",
    "    c = None if clusters is None else clusters\n",
    " \n",
    "    # Les points    \n",
    "    # plt.scatter(   X_[:, x], X_[:, y], alpha=alpha, \n",
    "    #                     c=c, cmap=\"Set1\", marker=marker)\n",
    "    sns.scatterplot(data=None, x=X_[:, x], y=X_[:, y], hue=c)\n",
    "\n",
    "    # Si la variable pca a été fournie, on peut calculer le % de variance de chaque axe \n",
    "    if pca : \n",
    "        v1 = str(round(100*pca.explained_variance_ratio_[x]))  + \" %\"\n",
    "        v2 = str(round(100*pca.explained_variance_ratio_[y]))  + \" %\"\n",
    "    else : \n",
    "        v1=v2= ''\n",
    "\n",
    "    # Nom des axes, avec le pourcentage d'inertie expliqué\n",
    "    ax.set_xlabel(f'F{x+1} {v1}')\n",
    "    ax.set_ylabel(f'F{y+1} {v2}')\n",
    "\n",
    "    # Valeur x max et y max\n",
    "    x_max = np.abs(X_[:, x]).max() *1.1\n",
    "    y_max = np.abs(X_[:, y]).max() *1.1\n",
    "\n",
    "    # On borne x et y \n",
    "    ax.set_xlim(left=-x_max, right=x_max)\n",
    "    ax.set_ylim(bottom= -y_max, top=y_max)\n",
    "\n",
    "    # Affichage des lignes horizontales et verticales\n",
    "    plt.plot([-x_max, x_max], [0, 0], color='grey', alpha=0.8)\n",
    "    plt.plot([0,0], [-y_max, y_max], color='grey', alpha=0.8)\n",
    "\n",
    "    # Affichage des labels des points\n",
    "    if len(labels) : \n",
    "        # j'ai copié collé la fonction sans la lire\n",
    "        for i,(_x,_y) in enumerate(X_[:,[x,y]]):\n",
    "            plt.text(_x, _y+0.05, labels[i], fontsize='20', ha='center',va='center') \n",
    "\n",
    "    # Titre et display\n",
    "    plt.title(f\"Projection des individus (sur F{x+1} et F{y+1})\")\n",
    "    plt.show()\n"
   ]
  },
  {
   "cell_type": "code",
   "execution_count": 71,
   "id": "6452f465",
   "metadata": {},
   "outputs": [
    {
     "data": {
      "text/plain": [
       "Index(['energy_100g', 'fat_100g', 'saturated-fat_100g', 'carbohydrates_100g',\n",
       "       'sugars_100g', 'fiber_100g', 'proteins_100g', 'salt_100g',\n",
       "       'sodium_100g', 'nutrition-score-fr_100g', 'nutrition_grade_fr',\n",
       "       'groupe_nutriscore'],\n",
       "      dtype='object')"
      ]
     },
     "execution_count": 71,
     "metadata": {},
     "output_type": "execute_result"
    }
   ],
   "source": [
    "data.columns"
   ]
  },
  {
   "cell_type": "markdown",
   "id": "adc19c7e",
   "metadata": {},
   "source": [
    "fiber_100g, additives_n, code "
   ]
  },
  {
   "cell_type": "markdown",
   "id": "ba3b732d",
   "metadata": {},
   "source": [
    "Essayons la version simple avec F1 et F2, les couleurs correspondent au niveau de difficulté :"
   ]
  },
  {
   "cell_type": "code",
   "execution_count": 72,
   "id": "723ede4a",
   "metadata": {},
   "outputs": [
    {
     "data": {
      "image/png": "[encoded data removed]",
      "text/plain": [
       "<Figure size 1080x720 with 1 Axes>"
      ]
     },
     "metadata": {
      "needs_background": "light"
     },
     "output_type": "display_data"
    }
   ],
   "source": [
    "x_y = [0,1]\n",
    "display_factorial_planes(X_proj, x_y, figsize=(15,10), clusters=data['nutrition_grade_fr'])"
   ]
  },
  {
   "cell_type": "markdown",
   "id": "7beafe0c",
   "metadata": {},
   "source": [
    "Les aliments du nutriscore \"e\" vont être plus en haut et ce sont les aliments qui auront beaucoup des sucres et des carbohydrates. "
   ]
  },
  {
   "cell_type": "markdown",
   "id": "5a7c464f",
   "metadata": {},
   "source": [
    "Essayons la version plus élaborée avec F1 et F2 :"
   ]
  },
  {
   "cell_type": "markdown",
   "id": "917adfca",
   "metadata": {},
   "source": [
    "Essayons ensuite avec F2 et F3 :"
   ]
  },
  {
   "cell_type": "markdown",
   "id": "18636e05",
   "metadata": {},
   "source": [
    "##### QUESTION 4\n",
    "\n",
    "Élaborer une idée d’application. Identifier des arguments justifiant la faisabilité (ou non) de l’application à partir des données nutritionnelles.\n",
    "\n",
    "Idées :\n",
    "\n",
    "Créer une fonction qui prends en paramètre en paramètre les valeurs en quantité de ce produit et si les quantités dépassent les seuils fixés au départ le produit est rejeté et on en propose un autre et ainsi de suite. \n",
    "\n",
    "\n",
    "Identifier les caractéristiques nutritionnelles des produits mauvais nutriscores et étiqueter automatiquement les produits qui ont des caractéristiques similaires\n",
    "\n",
    "Calcul automatique de nutriscore et vérifier si le nombre d'additifs est lié au nutriscore / mettre un indicateur sur le nombre d'additifs. \n",
    "\n",
    "Cépendant dans notre cas le nutriscore n'est pas une condition vitale pour le choix ou non de notre produit, ce qui nous permettra de faire les choix d'un produit, c'est les quantités existants dans celui ci qui peut être corréler avec le nutriscore. "
   ]
  }
 ],
 "metadata": {
  "kernelspec": {
   "display_name": "Python 3 (ipykernel)",
   "language": "python",
   "name": "python3"
  },
  "language_info": {
   "codemirror_mode": {
    "name": "ipython",
    "version": 3
   },
   "file_extension": ".py",
   "mimetype": "text/x-python",
   "name": "python",
   "nbconvert_exporter": "python",
   "pygments_lexer": "ipython3",
   "version": "3.9.7"
  }
 },
 "nbformat": 4,
 "nbformat_minor": 5
}
